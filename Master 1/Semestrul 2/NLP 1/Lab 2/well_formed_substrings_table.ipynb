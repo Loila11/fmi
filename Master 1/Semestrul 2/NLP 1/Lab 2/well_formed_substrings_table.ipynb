{
 "cells": [
  {
   "cell_type": "code",
   "execution_count": 1,
   "metadata": {},
   "outputs": [],
   "source": [
    "grammar = \"\"\"S -> NP VP\n",
    "S -> VP\n",
    "NP -> DT NN\n",
    "NP -> IN NNP\n",
    "NP -> DT JJ NN\n",
    "NP -> PRP\n",
    "VP -> VBP NP\n",
    "VP -> VBP VP\n",
    "VP -> VBG NP\n",
    "VP -> TO VP\n",
    "VP -> VB\n",
    "VP -> VB NP\n",
    "VP -> VBD\n",
    "VP -> VBD NP\n",
    "VBP -> 'am'\n",
    "NNP -> 'paul'\n",
    "PRP -> 'i'\n",
    "IN -> 'with'\n",
    "VBG -> 'talking'\"\"\""
   ]
  },
  {
   "cell_type": "code",
   "execution_count": 2,
   "metadata": {
    "scrolled": true
   },
   "outputs": [
    {
     "data": {
      "text/plain": [
       "[('S', ['NP', 'VP']),\n",
       " ('S', ['VP']),\n",
       " ('NP', ['DT', 'NN']),\n",
       " ('NP', ['IN', 'NNP']),\n",
       " ('NP', ['DT', 'JJ', 'NN']),\n",
       " ('NP', ['PRP']),\n",
       " ('VP', ['VBP', 'NP']),\n",
       " ('VP', ['VBP', 'VP']),\n",
       " ('VP', ['VBG', 'NP']),\n",
       " ('VP', ['TO', 'VP']),\n",
       " ('VP', ['VB']),\n",
       " ('VP', ['VB', 'NP']),\n",
       " ('VP', ['VBD']),\n",
       " ('VP', ['VBD', 'NP']),\n",
       " ('VBP', ['am']),\n",
       " ('NNP', ['paul']),\n",
       " ('PRP', ['i']),\n",
       " ('IN', ['with']),\n",
       " ('VBG', ['talking'])]"
      ]
     },
     "execution_count": 2,
     "metadata": {},
     "output_type": "execute_result"
    }
   ],
   "source": [
    "import re\n",
    "\n",
    "productions = grammar.split('\\n')\n",
    "pos_table = []\n",
    "\n",
    "for production in productions:\n",
    "    nonterminal, sequence = production.split(' -> ')\n",
    "\n",
    "    symbols = re.sub('\\'', '', sequence).split()\n",
    "    pos_table.append((nonterminal, symbols))\n",
    "\n",
    "pos_table"
   ]
  },
  {
   "cell_type": "markdown",
   "metadata": {},
   "source": [
    "Add auxiliary terminals in order to obtain only two nodes in each production:"
   ]
  },
  {
   "cell_type": "code",
   "execution_count": 3,
   "metadata": {
    "scrolled": false
   },
   "outputs": [
    {
     "data": {
      "text/plain": [
       "[('S', ['NP', 'VP']),\n",
       " ('S', ['VP']),\n",
       " ('NP', ['DT', 'NN']),\n",
       " ('NP', ['IN', 'NNP']),\n",
       " ('NP', ['T1', 'NN']),\n",
       " ('NP', ['PRP']),\n",
       " ('VP', ['VBP', 'NP']),\n",
       " ('VP', ['VBP', 'VP']),\n",
       " ('VP', ['VBG', 'NP']),\n",
       " ('VP', ['TO', 'VP']),\n",
       " ('VP', ['VB']),\n",
       " ('VP', ['VB', 'NP']),\n",
       " ('VP', ['VBD']),\n",
       " ('VP', ['VBD', 'NP']),\n",
       " ('VBP', ['am']),\n",
       " ('NNP', ['paul']),\n",
       " ('PRP', ['i']),\n",
       " ('IN', ['with']),\n",
       " ('VBG', ['talking']),\n",
       " ('T1', ['DT', 'JJ'])]"
      ]
     },
     "execution_count": 3,
     "metadata": {},
     "output_type": "execute_result"
    }
   ],
   "source": [
    "ct = 1\n",
    "new_terminals = []\n",
    "\n",
    "for i in range(len(pos_table)):\n",
    "    while len(pos_table[i][1]) > 2:\n",
    "        new_terminals.append(('T' + str(ct), pos_table[i][1][:2]))\n",
    "        pos_table[i] = (pos_table[i][0], ['T' + str(ct)] + pos_table[i][1][2:])\n",
    "        ct += 1\n",
    "\n",
    "pos_table += new_terminals\n",
    "pos_table"
   ]
  },
  {
   "cell_type": "code",
   "execution_count": 4,
   "metadata": {},
   "outputs": [
    {
     "data": {
      "text/plain": [
       "'VP'"
      ]
     },
     "execution_count": 4,
     "metadata": {},
     "output_type": "execute_result"
    }
   ],
   "source": [
    "def check_symbols(symbol_list):\n",
    "    for production in pos_table:\n",
    "        if production[1] == symbol_list:\n",
    "            return production[0]\n",
    "\n",
    "    return None\n",
    "\n",
    "check_symbols(['VB', 'NP'])"
   ]
  },
  {
   "cell_type": "code",
   "execution_count": 5,
   "metadata": {},
   "outputs": [
    {
     "data": {
      "text/plain": [
       "[('PRP', 'i'),\n",
       " ('VBP', 'am'),\n",
       " ('VBG', 'talking'),\n",
       " ('IN', 'with'),\n",
       " ('NNP', 'paul')]"
      ]
     },
     "execution_count": 5,
     "metadata": {},
     "output_type": "execute_result"
    }
   ],
   "source": [
    "import numpy as np\n",
    "import nltk.data\n",
    "import string\n",
    "\n",
    "def posTagSentence(sentence):\n",
    "    sentence_to_array = nltk.wordpunct_tokenize(sentence)\n",
    "    sentence_with_pos = nltk.pos_tag(sentence_to_array)\n",
    "    sentence_without_punct = [(word[1], word[0].lower()) for word in sentence_with_pos if word[0][0] not in string.punctuation]\n",
    "    return sentence_without_punct\n",
    "\n",
    "posTagSentence('I am talking with Paul.')"
   ]
  },
  {
   "cell_type": "code",
   "execution_count": 35,
   "metadata": {},
   "outputs": [],
   "source": [
    "def get_production_depth(productions, sequence, pos, current_pos):\n",
    "    if productions == None:\n",
    "        productions = []\n",
    "\n",
    "    nonterminal = check_symbols(sequence)\n",
    "\n",
    "    while nonterminal:\n",
    "        productions.append((nonterminal, sequence, pos))\n",
    "        pos = current_pos\n",
    "        sequence = [nonterminal]\n",
    "        nonterminal = check_symbols(sequence)\n",
    "\n",
    "    return productions if productions != [] else None"
   ]
  },
  {
   "cell_type": "code",
   "execution_count": 36,
   "metadata": {},
   "outputs": [
    {
     "data": {
      "text/plain": [
       "[(('PRP', 'i'), ('IN', 'with'), [(1, 1), (2, 2)]),\n",
       " (('NP', ['PRP']), ('IN', 'with'), [(1, 1), (2, 2)])]"
      ]
     },
     "execution_count": 36,
     "metadata": {},
     "output_type": "execute_result"
    }
   ],
   "source": [
    "import itertools\n",
    "\n",
    "def all_combinations(list1, list2, pos):\n",
    "    if list1 == None or list2 == None:\n",
    "        return []\n",
    "\n",
    "    combinations = list(itertools.chain(*[\n",
    "        list(zip(each_permutation, list2)) for each_permutation in itertools.permutations(list1, len(list2))\n",
    "    ] + ([\n",
    "        list(zip(list1, each_permutation)) for each_permutation in itertools.permutations(list2, len(list1))\n",
    "    ] if len(list1) != len(list2) else [])))\n",
    "    \n",
    "    return [(c[0], c[1], pos) for c in combinations]\n",
    "\n",
    "terminals = all_combinations([('PRP', 'i'), ('NP', ['PRP'])], [('IN', 'with')], [(1, 1), (2, 2)])\n",
    "terminals"
   ]
  },
  {
   "cell_type": "code",
   "execution_count": 45,
   "metadata": {},
   "outputs": [
    {
     "data": {
      "text/plain": [
       "array([[list([('PRP', 'i'), ('NP', ['PRP'], [(0, 0)])]), None, None,\n",
       "        None, list([('S', ['NP', 'VP'], [(0, 0), (1, 4)])])],\n",
       "       [None, list([('VBP', 'am')]), None, None,\n",
       "        list([('VP', ['VBP', 'VP'], [(1, 1), (2, 4)]), ('S', ['VP'], [(1, 4)])])],\n",
       "       [None, None, list([('VBG', 'talking')]), None,\n",
       "        list([('VP', ['VBG', 'NP'], [(2, 2), (3, 4)]), ('S', ['VP'], [(2, 4)])])],\n",
       "       [None, None, None, list([('IN', 'with')]),\n",
       "        list([('NP', ['IN', 'NNP'], [(3, 3), (4, 4)])])],\n",
       "       [None, None, None, None, list([('NNP', 'paul')])]], dtype=object)"
      ]
     },
     "execution_count": 45,
     "metadata": {},
     "output_type": "execute_result"
    }
   ],
   "source": [
    "import numpy as np\n",
    "\n",
    "def make_parsing_matrix(sentence_string):\n",
    "    sentence = posTagSentence(sentence_string)\n",
    "    n = len(sentence)\n",
    "    T = np.full((n, n), None)\n",
    "\n",
    "    for i in range(n):\n",
    "        T[i][i] = get_production_depth([sentence[i]], [sentence[i][0]], [(i, i)], (i, i))\n",
    "\n",
    "    for j in range(1, n):\n",
    "        for i in range(n - j):\n",
    "            terminals = list(itertools.chain(*[\n",
    "                all_combinations(T[i][k], T[k + 1][i + j], [(i, k), (k + 1, i + j)]) for k in range(i, i + j)\n",
    "            ]))\n",
    "            for terminal1, terminal2, pos in terminals:\n",
    "                T[i][i + j] = get_production_depth(T[i][i + j], [terminal1[0], terminal2[0]], pos, [(i, i + j)])\n",
    "\n",
    "    return T\n",
    "\n",
    "T = make_parsing_matrix('I am talking with Paul.')\n",
    "T"
   ]
  },
  {
   "cell_type": "code",
   "execution_count": 78,
   "metadata": {},
   "outputs": [
    {
     "data": {
      "text/plain": [
       "' (S (NP (PRP i)) (VP (VBP am) (VP (VBG talking) (NP (IN with) (NNP paul)))))'"
      ]
     },
     "execution_count": 78,
     "metadata": {},
     "output_type": "execute_result"
    }
   ],
   "source": [
    "def get_parsing(T, terminal, pos):\n",
    "    productions = T[pos[0]][pos[1]]\n",
    "    i = 0\n",
    "    while i < len(productions) and productions[i][0] != terminal:\n",
    "        i += 1\n",
    "\n",
    "    productions = productions[i]\n",
    "    if productions[1][0].lower() == productions[1][0]:\n",
    "        return ' (' + terminal + ' ' + productions[1] + ')'\n",
    "\n",
    "    return ' (' + terminal + \\\n",
    "            get_parsing(T, productions[1][0], productions[2][0]) + \\\n",
    "            (get_parsing(T, productions[1][1], productions[2][1]) if len(productions[1]) > 1 else '') + \\\n",
    "    ')'\n",
    "\n",
    "get_parsing(T, 'S', (0, T.shape[1] - 1))"
   ]
  },
  {
   "cell_type": "code",
   "execution_count": 79,
   "metadata": {},
   "outputs": [
    {
     "name": "stdout",
     "output_type": "stream",
     "text": [
      " (S (NP (PRP i)) (VP (VBP am) (VP (VBG talking) (NP (IN with) (NNP paul)))))\n"
     ]
    }
   ],
   "source": [
    "def find_sentence_parsing(sentence):\n",
    "    T = make_parsing_matrix(sentence)\n",
    "    parsing = get_parsing(T, 'S', (0, T.shape[1] - 1))\n",
    "    return parsing\n",
    "\n",
    "print(find_sentence_parsing('I am talking with Paul.'))"
   ]
  }
 ],
 "metadata": {
  "kernelspec": {
   "display_name": "Python 3",
   "language": "python",
   "name": "python3"
  },
  "language_info": {
   "codemirror_mode": {
    "name": "ipython",
    "version": 3
   },
   "file_extension": ".py",
   "mimetype": "text/x-python",
   "name": "python",
   "nbconvert_exporter": "python",
   "pygments_lexer": "ipython3",
   "version": "3.7.6"
  }
 },
 "nbformat": 4,
 "nbformat_minor": 4
}
