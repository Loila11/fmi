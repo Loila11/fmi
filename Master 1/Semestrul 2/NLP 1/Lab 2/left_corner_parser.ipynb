{
 "cells": [
  {
   "cell_type": "markdown",
   "metadata": {},
   "source": [
    "# POS & Syntax assignment part 1"
   ]
  },
  {
   "cell_type": "markdown",
   "metadata": {},
   "source": [
    "---\n",
    "## Prerequisites"
   ]
  },
  {
   "cell_type": "code",
   "execution_count": 28,
   "metadata": {},
   "outputs": [],
   "source": [
    "grammar = \"\"\"S -> NP VP\n",
    "S -> VP\n",
    "NP -> DT NN\n",
    "NP -> IN NNP\n",
    "NP -> DT JJ NN\n",
    "NP -> PRP\n",
    "VP -> VBP NP\n",
    "VP -> VBP VP\n",
    "VP -> VBG NP\n",
    "VP -> TO VP\n",
    "VP -> VB\n",
    "VP -> VB NP\n",
    "VP -> VBD\n",
    "VP -> VBD NP\n",
    "VBP -> 'am'\n",
    "NNP -> 'paul'\n",
    "PRP -> 'i'\n",
    "IN -> 'with'\n",
    "VBG -> 'talking'\"\"\""
   ]
  },
  {
   "cell_type": "code",
   "execution_count": 29,
   "metadata": {},
   "outputs": [],
   "source": [
    "sent = ['i', 'am', 'talking', 'with', 'Paul']"
   ]
  },
  {
   "cell_type": "code",
   "execution_count": 48,
   "metadata": {},
   "outputs": [],
   "source": [
    "grammar = \"\"\"S -> NP VP\n",
    "S -> VP\n",
    "NP -> DT NN\n",
    "NP -> DT JJ NN\n",
    "NP -> PRP\n",
    "VP -> VBP VP\n",
    "VP -> VBP NP\n",
    "VP -> VBG NP\n",
    "VP -> TO VP\n",
    "VP -> VB\n",
    "VP -> VB NP\n",
    "NN -> 'show'\n",
    "NN -> 'book'\n",
    "PRP -> 'i'\n",
    "VBP -> 'am'\n",
    "VBG -> 'watching'\n",
    "VB -> 'show'\n",
    "DT -> 'a'\n",
    "DT -> 'the'\n",
    "MD -> 'will'\"\"\""
   ]
  },
  {
   "cell_type": "code",
   "execution_count": 49,
   "metadata": {},
   "outputs": [],
   "source": [
    "sent = ['i', 'am', 'watching', 'a', 'show']"
   ]
  },
  {
   "cell_type": "markdown",
   "metadata": {},
   "source": [
    "---\n",
    "## Step 1: make table"
   ]
  },
  {
   "cell_type": "code",
   "execution_count": 50,
   "metadata": {},
   "outputs": [
    {
     "data": {
      "text/plain": [
       "{'S': ['NP', 'VP'],\n",
       " 'NP': ['DT', 'PRP'],\n",
       " 'VP': ['VBP', 'VBG', 'TO', 'VB'],\n",
       " 'NN': ['show', 'book'],\n",
       " 'PRP': ['i'],\n",
       " 'VBP': ['am'],\n",
       " 'VBG': ['watching'],\n",
       " 'VB': ['show'],\n",
       " 'DT': ['a', 'the'],\n",
       " 'MD': ['will']}"
      ]
     },
     "execution_count": 50,
     "metadata": {},
     "output_type": "execute_result"
    }
   ],
   "source": [
    "import re\n",
    "\n",
    "productions = grammar.split('\\n')\n",
    "pos_table = {}\n",
    "\n",
    "for production in productions:\n",
    "    nonterminal, sequence = production.split(' -> ')\n",
    "    \n",
    "    if nonterminal not in pos_table.keys():\n",
    "        pos_table[nonterminal] = []\n",
    "\n",
    "    symbol = re.sub('\\'', '', sequence.split()[0])\n",
    "    if symbol not in pos_table[nonterminal]:\n",
    "        pos_table[nonterminal].append(symbol)\n",
    "\n",
    "pos_table"
   ]
  },
  {
   "cell_type": "code",
   "execution_count": 51,
   "metadata": {},
   "outputs": [
    {
     "name": "stdout",
     "output_type": "stream",
     "text": [
      "╒══════════╤══════════════════╕\n",
      "│ Symbol   │ Left corner      │\n",
      "╞══════════╪══════════════════╡\n",
      "│ S        │ NP, VP           │\n",
      "├──────────┼──────────────────┤\n",
      "│ NP       │ DT, PRP          │\n",
      "├──────────┼──────────────────┤\n",
      "│ VP       │ VBP, VBG, TO, VB │\n",
      "├──────────┼──────────────────┤\n",
      "│ NN       │ show, book       │\n",
      "├──────────┼──────────────────┤\n",
      "│ PRP      │ i                │\n",
      "├──────────┼──────────────────┤\n",
      "│ VBP      │ am               │\n",
      "├──────────┼──────────────────┤\n",
      "│ VBG      │ watching         │\n",
      "├──────────┼──────────────────┤\n",
      "│ VB       │ show             │\n",
      "├──────────┼──────────────────┤\n",
      "│ DT       │ a, the           │\n",
      "├──────────┼──────────────────┤\n",
      "│ MD       │ will             │\n",
      "╘══════════╧══════════════════╛\n"
     ]
    }
   ],
   "source": [
    "from tabulate import tabulate\n",
    "\n",
    "print_table = [[symbol, ', '.join(pos_table[symbol])] for symbol in pos_table]\n",
    "\n",
    "print(tabulate(print_table, headers=['Symbol', 'Left corner'], tablefmt='fancy_grid'))"
   ]
  },
  {
   "cell_type": "markdown",
   "metadata": {},
   "source": [
    "---\n",
    "## Step 2"
   ]
  },
  {
   "cell_type": "code",
   "execution_count": 52,
   "metadata": {},
   "outputs": [],
   "source": [
    "class Node:\n",
    "    def __init__(self, value, parent, children):\n",
    "        self.value = value\n",
    "        self.parent = parent\n",
    "        self.children = children\n",
    "\n",
    "    def __str__(self):\n",
    "        seq = ' (' + self.value\n",
    "        for child in self.children:\n",
    "            seq += str(child)\n",
    "        seq += ')'\n",
    "\n",
    "        return seq"
   ]
  },
  {
   "cell_type": "code",
   "execution_count": 53,
   "metadata": {},
   "outputs": [],
   "source": [
    "def get_parents(symbol):\n",
    "    parents = []\n",
    "\n",
    "    for parent in pos_table:\n",
    "        if symbol in pos_table[parent]:\n",
    "            parents.append(parent)\n",
    "\n",
    "    return list(set(parents))"
   ]
  },
  {
   "cell_type": "code",
   "execution_count": 54,
   "metadata": {},
   "outputs": [],
   "source": [
    "def get_sequence(parent, symbol):\n",
    "    for production in productions:\n",
    "        nonterminal, sequence = production.split(' -> ')\n",
    "\n",
    "        if nonterminal != parent:\n",
    "            continue\n",
    "\n",
    "        sequence = re.sub('\\'', '', sequence).split()\n",
    "        if symbol != sequence[0]:\n",
    "            continue\n",
    "\n",
    "        return sequence"
   ]
  },
  {
   "cell_type": "code",
   "execution_count": 55,
   "metadata": {},
   "outputs": [],
   "source": [
    "def get_sequences(parent, symbol):\n",
    "    sequences = []\n",
    "    for production in productions:\n",
    "        nonterminal, sequence = production.split(' -> ')\n",
    "\n",
    "        if nonterminal != parent:\n",
    "            continue\n",
    "\n",
    "        sequence = re.sub('\\'', '', sequence).split()\n",
    "        if symbol != sequence[0]:\n",
    "            continue\n",
    "\n",
    "        sequences.append(sequence)\n",
    "\n",
    "    return sequences"
   ]
  },
  {
   "cell_type": "code",
   "execution_count": 56,
   "metadata": {},
   "outputs": [],
   "source": [
    "import copy\n",
    "\n",
    "def bkt(symbol, root):\n",
    "    node = Node(symbol, None, [])\n",
    "\n",
    "    if symbol == root.value:\n",
    "        return [root]\n",
    "\n",
    "    parents = get_parents(symbol)\n",
    "    nodes = []\n",
    "\n",
    "    for parent in parents:\n",
    "        parent_nodes = bkt(parent, root)\n",
    "        for parent_node in parent_nodes:\n",
    "            node1 = copy.deepcopy(node)\n",
    "\n",
    "            node1.parent = parent_node\n",
    "            parent_node.children.append(node1)\n",
    "\n",
    "#             sequences = get_sequences(parent, symbol)\n",
    "#             for sequence in sequences:\n",
    "            sequence = get_sequence(parent, symbol)\n",
    "            for nonterminal in sequence[1:]:\n",
    "                node2 = Node(nonterminal, parent_node, [])\n",
    "                parent_node.children.append(node2)\n",
    "                nonterminals.append(node2)\n",
    "\n",
    "            nodes.append(node1)\n",
    "\n",
    "    return nodes"
   ]
  },
  {
   "cell_type": "code",
   "execution_count": 57,
   "metadata": {},
   "outputs": [
    {
     "name": "stdout",
     "output_type": "stream",
     "text": [
      " (S (NP (PRP (i))) (VP (VBP (am)) (VP (VBG (watching)) (NP (DT (a)) (NN (show))))))\n"
     ]
    }
   ],
   "source": [
    "root = Node('S', None, [])\n",
    "nonterminals = [root]\n",
    "\n",
    "i = 0\n",
    "while nonterminals:\n",
    "    node = nonterminals.pop(0)\n",
    "    bkt(sent[i], node)\n",
    "    i += 1\n",
    "    \n",
    "    if i == len(sent):\n",
    "        break\n",
    "\n",
    "print(root)"
   ]
  },
  {
   "cell_type": "code",
   "execution_count": null,
   "metadata": {},
   "outputs": [],
   "source": []
  }
 ],
 "metadata": {
  "kernelspec": {
   "display_name": "Python 3",
   "language": "python",
   "name": "python3"
  },
  "language_info": {
   "codemirror_mode": {
    "name": "ipython",
    "version": 3
   },
   "file_extension": ".py",
   "mimetype": "text/x-python",
   "name": "python",
   "nbconvert_exporter": "python",
   "pygments_lexer": "ipython3",
   "version": "3.7.6"
  }
 },
 "nbformat": 4,
 "nbformat_minor": 4
}
