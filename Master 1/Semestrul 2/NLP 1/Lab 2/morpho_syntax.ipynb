{
 "cells": [
  {
   "cell_type": "markdown",
   "metadata": {},
   "source": [
    "# POS & Syntax assignment part 1"
   ]
  },
  {
   "cell_type": "markdown",
   "metadata": {},
   "source": [
    "---\n",
    "## Prerequisites"
   ]
  },
  {
   "cell_type": "code",
   "execution_count": 1,
   "metadata": {
    "scrolled": true
   },
   "outputs": [
    {
     "name": "stdout",
     "output_type": "stream",
     "text": [
      "Requirement already satisfied: wikipedia in c:\\users\\mirun\\anaconda3\\lib\\site-packages (1.4.0)\n",
      "Requirement already satisfied: requests<3.0.0,>=2.0.0 in c:\\users\\mirun\\anaconda3\\lib\\site-packages (from wikipedia) (2.22.0)\n",
      "Requirement already satisfied: beautifulsoup4 in c:\\users\\mirun\\anaconda3\\lib\\site-packages (from wikipedia) (4.8.2)\n",
      "Requirement already satisfied: urllib3!=1.25.0,!=1.25.1,<1.26,>=1.21.1 in c:\\users\\mirun\\anaconda3\\lib\\site-packages (from requests<3.0.0,>=2.0.0->wikipedia) (1.25.8)\n",
      "Requirement already satisfied: chardet<3.1.0,>=3.0.2 in c:\\users\\mirun\\anaconda3\\lib\\site-packages (from requests<3.0.0,>=2.0.0->wikipedia) (3.0.4)\n",
      "Requirement already satisfied: idna<2.9,>=2.5 in c:\\users\\mirun\\anaconda3\\lib\\site-packages (from requests<3.0.0,>=2.0.0->wikipedia) (2.8)\n",
      "Requirement already satisfied: certifi>=2017.4.17 in c:\\users\\mirun\\anaconda3\\lib\\site-packages (from requests<3.0.0,>=2.0.0->wikipedia) (2019.11.28)\n",
      "Requirement already satisfied: soupsieve>=1.2 in c:\\users\\mirun\\anaconda3\\lib\\site-packages (from beautifulsoup4->wikipedia) (1.9.5)\n"
     ]
    },
    {
     "name": "stderr",
     "output_type": "stream",
     "text": [
      "WARNING: Ignoring invalid distribution -umpy (c:\\users\\mirun\\anaconda3\\lib\\site-packages)\n",
      "WARNING: Ignoring invalid distribution -umpy (c:\\users\\mirun\\anaconda3\\lib\\site-packages)\n",
      "WARNING: Ignoring invalid distribution -umpy (c:\\users\\mirun\\anaconda3\\lib\\site-packages)\n",
      "WARNING: Ignoring invalid distribution -umpy (c:\\users\\mirun\\anaconda3\\lib\\site-packages)\n",
      "WARNING: Ignoring invalid distribution -umpy (c:\\users\\mirun\\anaconda3\\lib\\site-packages)\n"
     ]
    }
   ],
   "source": [
    "!pip install wikipedia"
   ]
  },
  {
   "cell_type": "code",
   "execution_count": 2,
   "metadata": {},
   "outputs": [
    {
     "name": "stderr",
     "output_type": "stream",
     "text": [
      "[nltk_data] Downloading package tagsets to\n",
      "[nltk_data]     C:\\Users\\mirun\\AppData\\Roaming\\nltk_data...\n",
      "[nltk_data]   Package tagsets is already up-to-date!\n"
     ]
    },
    {
     "data": {
      "text/plain": [
       "True"
      ]
     },
     "execution_count": 2,
     "metadata": {},
     "output_type": "execute_result"
    }
   ],
   "source": [
    "import nltk\n",
    "\n",
    "nltk.download('tagsets')"
   ]
  },
  {
   "cell_type": "code",
   "execution_count": 3,
   "metadata": {},
   "outputs": [
    {
     "name": "stdout",
     "output_type": "stream",
     "text": [
      "Requirement already satisfied: tabulate in c:\\users\\mirun\\anaconda3\\lib\\site-packages (0.8.9)\n"
     ]
    },
    {
     "name": "stderr",
     "output_type": "stream",
     "text": [
      "WARNING: Ignoring invalid distribution -umpy (c:\\users\\mirun\\anaconda3\\lib\\site-packages)\n",
      "WARNING: Ignoring invalid distribution -umpy (c:\\users\\mirun\\anaconda3\\lib\\site-packages)\n",
      "WARNING: Ignoring invalid distribution -umpy (c:\\users\\mirun\\anaconda3\\lib\\site-packages)\n",
      "WARNING: Ignoring invalid distribution -umpy (c:\\users\\mirun\\anaconda3\\lib\\site-packages)\n",
      "WARNING: Ignoring invalid distribution -umpy (c:\\users\\mirun\\anaconda3\\lib\\site-packages)\n"
     ]
    }
   ],
   "source": [
    "!pip install tabulate"
   ]
  },
  {
   "cell_type": "markdown",
   "metadata": {},
   "source": [
    "---\n",
    "## Subsection 1"
   ]
  },
  {
   "cell_type": "code",
   "execution_count": 4,
   "metadata": {},
   "outputs": [
    {
     "name": "stdout",
     "output_type": "stream",
     "text": [
      "Title of the article:\n",
      "Natural language processing\n",
      "\n",
      "First 200 words:\n",
      "['Natural', 'language', 'processing', '(NLP)', 'is', 'a', 'subfield', 'of', 'linguistics,', 'computer', 'science,', 'and', 'artificial', 'intelligence', 'concerned', 'with', 'the', 'interactions', 'between', 'computers', 'and', 'human', 'language,', 'in', 'particular', 'how', 'to', 'program', 'computers', 'to', 'process', 'and', 'analyze', 'large', 'amounts', 'of', 'natural', 'language', 'data.', 'The', 'goal', 'is', 'a', 'computer', 'capable', 'of', '\"understanding\"', 'the', 'contents', 'of', 'documents,', 'including', 'the', 'contextual', 'nuances', 'of', 'the', 'language', 'within', 'them.', 'The', 'technology', 'can', 'then', 'accurately', 'extract', 'information', 'and', 'insights', 'contained', 'in', 'the', 'documents', 'as', 'well', 'as', 'categorize', 'and', 'organize', 'the', 'documents', 'themselves.', 'Challenges', 'in', 'natural', 'language', 'processing', 'frequently', 'involve', 'speech', 'recognition,', 'natural', 'language', 'understanding,', 'and', 'natural', 'language', 'generation.', '==', 'History', '==', 'Natural', 'language', 'processing', 'has', 'its', 'roots', 'in', 'the', '1950s.', 'Already', 'in', '1950,', 'Alan', 'Turing', 'published', 'an', 'article', 'titled', '\"Computing', 'Machinery', 'and', 'Intelligence\"', 'which', 'proposed', 'what', 'is', 'now', 'called', 'the', 'Turing', 'test', 'as', 'a', 'criterion', 'of', 'intelligence,', 'though', 'at', 'the', 'time', 'that', 'was', 'not', 'articulated', 'as', 'a', 'problem', 'separate', 'from', 'artificial', 'intelligence.', 'The', 'proposed', 'test', 'includes', 'a', 'task', 'that', 'involves', 'the', 'automated', 'interpretation', 'and', 'generation', 'of', 'natural', 'language.', '===', 'Symbolic', 'NLP', '(1950s', '–', 'early', '1990s)', '===', 'The', 'premise', 'of', 'symbolic', 'NLP', 'is', 'well-summarized', 'by', 'John', \"Searle's\", 'Chinese', 'room', 'experiment:', 'Given', 'a', 'collection', 'of', 'rules', '(e.g.,', 'a', 'Chinese', 'phrasebook,', 'with', 'questions']\n"
     ]
    }
   ],
   "source": [
    "import wikipedia\n",
    "\n",
    "nlp = wikipedia.page(\"Natural language processing\")\n",
    "\n",
    "print('Title of the article:')\n",
    "print(nlp.title)\n",
    "\n",
    "print('\\nFirst 200 words:')\n",
    "print([word for word in nlp.content.split()[:200]])"
   ]
  },
  {
   "cell_type": "code",
   "execution_count": 89,
   "metadata": {},
   "outputs": [],
   "source": [
    "import numpy as np\n",
    "import nltk.data\n",
    "import string\n",
    "\n",
    "def posTagSentences(sentence_list):\n",
    "    sentences_to_words = [nltk.wordpunct_tokenize(sentence) for sentence in sentence_list]\n",
    "    sentences_with_punct = [nltk.pos_tag(sentence) for sentence in sentences_to_words]\n",
    "    sentences = [[word for word in sentence if word[0][0] not in string.punctuation] for sentence in sentences_with_punct]\n",
    "    return sentences"
   ]
  },
  {
   "cell_type": "code",
   "execution_count": 90,
   "metadata": {},
   "outputs": [
    {
     "name": "stdout",
     "output_type": "stream",
     "text": [
      "POS tagging for the first 20 sentences:\n",
      "\n",
      "[('Natural', 'JJ'), ('language', 'NN'), ('processing', 'NN'), ('NLP', 'NNP'), ('is', 'VBZ'), ('a', 'DT'), ('subfield', 'NN'), ('of', 'IN'), ('linguistics', 'NNS'), ('computer', 'NN'), ('science', 'NN'), ('and', 'CC'), ('artificial', 'JJ'), ('intelligence', 'NN'), ('concerned', 'VBN'), ('with', 'IN'), ('the', 'DT'), ('interactions', 'NNS'), ('between', 'IN'), ('computers', 'NNS'), ('and', 'CC'), ('human', 'JJ'), ('language', 'NN'), ('in', 'IN'), ('particular', 'JJ'), ('how', 'WRB'), ('to', 'TO'), ('program', 'NN'), ('computers', 'NNS'), ('to', 'TO'), ('process', 'VB'), ('and', 'CC'), ('analyze', 'VB'), ('large', 'JJ'), ('amounts', 'NNS'), ('of', 'IN'), ('natural', 'JJ'), ('language', 'NN'), ('data', 'NNS')]\n",
      "\n",
      "[('The', 'DT'), ('goal', 'NN'), ('is', 'VBZ'), ('a', 'DT'), ('computer', 'NN'), ('capable', 'NN'), ('of', 'IN'), ('understanding', 'VBG'), ('the', 'DT'), ('contents', 'NNS'), ('of', 'IN'), ('documents', 'NNS'), ('including', 'VBG'), ('the', 'DT'), ('contextual', 'JJ'), ('nuances', 'NNS'), ('of', 'IN'), ('the', 'DT'), ('language', 'NN'), ('within', 'IN'), ('them', 'PRP')]\n",
      "\n",
      "[('The', 'DT'), ('technology', 'NN'), ('can', 'MD'), ('then', 'RB'), ('accurately', 'RB'), ('extract', 'JJ'), ('information', 'NN'), ('and', 'CC'), ('insights', 'NNS'), ('contained', 'VBN'), ('in', 'IN'), ('the', 'DT'), ('documents', 'NNS'), ('as', 'RB'), ('well', 'RB'), ('as', 'IN'), ('categorize', 'NN'), ('and', 'CC'), ('organize', 'VB'), ('the', 'DT'), ('documents', 'NNS'), ('themselves', 'PRP')]\n",
      "\n",
      "[('Challenges', 'NNS'), ('in', 'IN'), ('natural', 'JJ'), ('language', 'NN'), ('processing', 'NN'), ('frequently', 'RB'), ('involve', 'VBP'), ('speech', 'NN'), ('recognition', 'NN'), ('natural', 'JJ'), ('language', 'NN'), ('understanding', 'NN'), ('and', 'CC'), ('natural', 'JJ'), ('language', 'NN'), ('generation', 'NN')]\n",
      "\n",
      "[('History', 'NNP'), ('Natural', 'NNP'), ('language', 'NN'), ('processing', 'NN'), ('has', 'VBZ'), ('its', 'PRP$'), ('roots', 'NNS'), ('in', 'IN'), ('the', 'DT'), ('1950s', 'CD')]\n",
      "\n",
      "[('Already', 'RB'), ('in', 'IN'), ('1950', 'CD'), ('Alan', 'NNP'), ('Turing', 'NNP'), ('published', 'VBD'), ('an', 'DT'), ('article', 'NN'), ('titled', 'VBN'), ('Computing', 'VBG'), ('Machinery', 'NN'), ('and', 'CC'), ('Intelligence', 'NNP'), ('which', 'WDT'), ('proposed', 'VBD'), ('what', 'WP'), ('is', 'VBZ'), ('now', 'RB'), ('called', 'VBN'), ('the', 'DT'), ('Turing', 'NNP'), ('test', 'NN'), ('as', 'IN'), ('a', 'DT'), ('criterion', 'NN'), ('of', 'IN'), ('intelligence', 'NN'), ('though', 'RB'), ('at', 'IN'), ('the', 'DT'), ('time', 'NN'), ('that', 'WDT'), ('was', 'VBD'), ('not', 'RB'), ('articulated', 'VBN'), ('as', 'IN'), ('a', 'DT'), ('problem', 'NN'), ('separate', 'NN'), ('from', 'IN'), ('artificial', 'JJ'), ('intelligence', 'NN')]\n",
      "\n",
      "[('The', 'DT'), ('proposed', 'VBN'), ('test', 'NN'), ('includes', 'VBZ'), ('a', 'DT'), ('task', 'NN'), ('that', 'WDT'), ('involves', 'VBZ'), ('the', 'DT'), ('automated', 'JJ'), ('interpretation', 'NN'), ('and', 'CC'), ('generation', 'NN'), ('of', 'IN'), ('natural', 'JJ'), ('language', 'NN')]\n",
      "\n",
      "[('Symbolic', 'NNP'), ('NLP', 'NNP'), ('1950s', 'CD'), ('–', 'RB'), ('early', 'RB'), ('1990s', 'CD'), ('The', 'DT'), ('premise', 'NN'), ('of', 'IN'), ('symbolic', 'JJ'), ('NLP', 'NNP'), ('is', 'VBZ'), ('well', 'RB'), ('summarized', 'VBN'), ('by', 'IN'), ('John', 'NNP'), ('Searle', 'NNP'), ('s', 'NN'), ('Chinese', 'JJ'), ('room', 'NN'), ('experiment', 'NN'), ('Given', 'VBN'), ('a', 'DT'), ('collection', 'NN'), ('of', 'IN'), ('rules', 'NNS'), ('e', 'NN'), ('g', 'NN'), ('a', 'DT'), ('Chinese', 'JJ'), ('phrasebook', 'NN'), ('with', 'IN'), ('questions', 'NNS'), ('and', 'CC'), ('matching', 'VBG'), ('answers', 'NNS'), ('the', 'DT'), ('computer', 'NN'), ('emulates', 'VBZ'), ('natural', 'JJ'), ('language', 'NN'), ('understanding', 'NN'), ('or', 'CC'), ('other', 'JJ'), ('NLP', 'NNP'), ('tasks', 'NNS'), ('by', 'IN'), ('applying', 'VBG'), ('those', 'DT'), ('rules', 'NNS'), ('to', 'TO'), ('the', 'DT'), ('data', 'NNS'), ('it', 'PRP'), ('confronts', 'VBZ')]\n",
      "\n",
      "[('1950s', 'NNS'), ('The', 'DT'), ('Georgetown', 'NNP'), ('experiment', 'NN'), ('in', 'IN'), ('1954', 'CD'), ('involved', 'JJ'), ('fully', 'RB'), ('automatic', 'JJ'), ('translation', 'NN'), ('of', 'IN'), ('more', 'JJR'), ('than', 'IN'), ('sixty', 'NN'), ('Russian', 'JJ'), ('sentences', 'NNS'), ('into', 'IN'), ('English', 'NNP')]\n",
      "\n",
      "[('The', 'DT'), ('authors', 'NNS'), ('claimed', 'VBD'), ('that', 'IN'), ('within', 'IN'), ('three', 'CD'), ('or', 'CC'), ('five', 'CD'), ('years', 'NNS'), ('machine', 'NN'), ('translation', 'NN'), ('would', 'MD'), ('be', 'VB'), ('a', 'DT'), ('solved', 'JJ'), ('problem', 'NN')]\n",
      "\n",
      "[('However', 'RB'), ('real', 'JJ'), ('progress', 'NN'), ('was', 'VBD'), ('much', 'RB'), ('slower', 'JJR'), ('and', 'CC'), ('after', 'IN'), ('the', 'DT'), ('ALPAC', 'NNP'), ('report', 'NN'), ('in', 'IN'), ('1966', 'CD'), ('which', 'WDT'), ('found', 'VBD'), ('that', 'IN'), ('ten', 'SYM'), ('year', 'NN'), ('long', 'JJ'), ('research', 'NN'), ('had', 'VBD'), ('failed', 'VBN'), ('to', 'TO'), ('fulfill', 'VB'), ('the', 'DT'), ('expectations', 'NNS'), ('funding', 'VBG'), ('for', 'IN'), ('machine', 'NN'), ('translation', 'NN'), ('was', 'VBD'), ('dramatically', 'RB'), ('reduced', 'VBN')]\n",
      "\n",
      "[('Little', 'JJ'), ('further', 'JJ'), ('research', 'NN'), ('in', 'IN'), ('machine', 'NN'), ('translation', 'NN'), ('was', 'VBD'), ('conducted', 'VBN'), ('until', 'IN'), ('the', 'DT'), ('late', 'JJ'), ('1980s', 'NNS'), ('when', 'WRB'), ('the', 'DT'), ('first', 'JJ'), ('statistical', 'JJ'), ('machine', 'NN'), ('translation', 'NN'), ('systems', 'NNS'), ('were', 'VBD'), ('developed', 'VBN')]\n",
      "\n",
      "[('1960s', 'NNS'), ('Some', 'DT'), ('notably', 'RB'), ('successful', 'JJ'), ('natural', 'JJ'), ('language', 'NN'), ('processing', 'VBG'), ('systems', 'NNS'), ('developed', 'VBN'), ('in', 'IN'), ('the', 'DT'), ('1960s', 'NNS'), ('were', 'VBD'), ('SHRDLU', 'NNP'), ('a', 'DT'), ('natural', 'JJ'), ('language', 'NN'), ('system', 'NN'), ('working', 'VBG'), ('in', 'IN'), ('restricted', 'JJ'), ('blocks', 'NNS'), ('worlds', 'NNS'), ('with', 'IN'), ('restricted', 'JJ'), ('vocabularies', 'NNS'), ('and', 'CC'), ('ELIZA', 'NNP'), ('a', 'DT'), ('simulation', 'NN'), ('of', 'IN'), ('a', 'DT'), ('Rogerian', 'JJ'), ('psychotherapist', 'NN'), ('written', 'VBN'), ('by', 'IN'), ('Joseph', 'NNP'), ('Weizenbaum', 'NNP'), ('between', 'IN'), ('1964', 'CD'), ('and', 'CC'), ('1966', 'CD')]\n",
      "\n",
      "[('Using', 'VBG'), ('almost', 'RB'), ('no', 'DT'), ('information', 'NN'), ('about', 'IN'), ('human', 'JJ'), ('thought', 'NN'), ('or', 'CC'), ('emotion', 'NN'), ('ELIZA', 'NNP'), ('sometimes', 'RB'), ('provided', 'VBD'), ('a', 'DT'), ('startlingly', 'RB'), ('human', 'JJ'), ('like', 'IN'), ('interaction', 'NN')]\n",
      "\n",
      "[('When', 'WRB'), ('the', 'DT'), ('patient', 'NN'), ('exceeded', 'VBD'), ('the', 'DT'), ('very', 'RB'), ('small', 'JJ'), ('knowledge', 'NN'), ('base', 'NN'), ('ELIZA', 'NNP'), ('might', 'MD'), ('provide', 'VB'), ('a', 'DT'), ('generic', 'JJ'), ('response', 'NN'), ('for', 'IN'), ('example', 'NN'), ('responding', 'VBG'), ('to', 'TO'), ('My', 'NNP'), ('head', 'NN'), ('hurts', 'VBZ'), ('with', 'IN'), ('Why', 'WRB'), ('do', 'VBP'), ('you', 'PRP'), ('say', 'VB'), ('your', 'PRP$'), ('head', 'NN'), ('hurts', 'VBZ')]\n",
      "\n",
      "[('1970s', 'NNS'), ('During', 'IN'), ('the', 'DT'), ('1970s', 'CD'), ('many', 'JJ'), ('programmers', 'NNS'), ('began', 'VBD'), ('to', 'TO'), ('write', 'VB'), ('conceptual', 'JJ'), ('ontologies', 'NNS'), ('which', 'WDT'), ('structured', 'VBD'), ('real', 'JJ'), ('world', 'NN'), ('information', 'NN'), ('into', 'IN'), ('computer', 'NN'), ('understandable', 'JJ'), ('data', 'NNS')]\n",
      "\n",
      "[('Examples', 'NNS'), ('are', 'VBP'), ('MARGIE', 'NNP'), ('Schank', 'NNP'), ('1975', 'CD'), ('SAM', 'NNP'), ('Cullingford', 'NNP'), ('1978', 'CD'), ('PAM', 'NNP'), ('Wilensky', 'NNP'), ('1978', 'CD'), ('TaleSpin', 'NNP'), ('Meehan', 'NNP'), ('1976', 'CD'), ('QUALM', 'NNP'), ('Lehnert', 'NNP'), ('1977', 'CD'), ('Politics', 'NNP'), ('Carbonell', 'NNP'), ('1979', 'CD'), ('and', 'CC'), ('Plot', 'NNP'), ('Units', 'NNP'), ('Lehnert', 'NNP'), ('1981', 'CD')]\n",
      "\n",
      "[('During', 'IN'), ('this', 'DT'), ('time', 'NN'), ('the', 'DT'), ('first', 'JJ'), ('chatterbots', 'NNS'), ('were', 'VBD'), ('written', 'VBN'), ('e', 'NN'), ('g', 'NN'), ('PARRY', 'NNP')]\n",
      "\n",
      "[('1980s', 'NNS'), ('The', 'DT'), ('1980s', 'CD'), ('and', 'CC'), ('early', 'RB'), ('1990s', 'CD'), ('mark', 'NN'), ('the', 'DT'), ('hey', 'JJ'), ('day', 'NN'), ('of', 'IN'), ('symbolic', 'JJ'), ('methods', 'NNS'), ('in', 'IN'), ('NLP', 'NNP')]\n",
      "\n",
      "[('Focus', 'NNP'), ('areas', 'NNS'), ('of', 'IN'), ('the', 'DT'), ('time', 'NN'), ('included', 'VBD'), ('research', 'NN'), ('on', 'IN'), ('rule', 'NN'), ('based', 'VBN'), ('parsing', 'NN'), ('e', 'NN'), ('g', 'NN'), ('the', 'DT'), ('development', 'NN'), ('of', 'IN'), ('HPSG', 'NNP'), ('as', 'IN'), ('a', 'DT'), ('computational', 'JJ'), ('operationalization', 'NN'), ('of', 'IN'), ('generative', 'JJ'), ('grammar', 'NN'), ('morphology', 'NN'), ('e', 'NN'), ('g', 'JJ'), ('two', 'CD'), ('level', 'NN'), ('morphology', 'NN'), ('semantics', 'NNS'), ('e', 'NN'), ('g', 'NN'), ('Lesk', 'NNP'), ('algorithm', 'NN'), ('reference', 'NN'), ('e', 'NN'), ('g', 'NN'), ('within', 'IN'), ('Centering', 'NNP'), ('Theory', 'NNP'), ('and', 'CC'), ('other', 'JJ'), ('areas', 'NNS'), ('of', 'IN'), ('natural', 'JJ'), ('language', 'NN'), ('understanding', 'NN'), ('e', 'NN'), ('g', 'NN'), ('in', 'IN'), ('the', 'DT'), ('Rhetorical', 'JJ'), ('Structure', 'NNP'), ('Theory', 'NNP')]\n"
     ]
    }
   ],
   "source": [
    "sentences_from_wiki = nltk.tokenize.sent_tokenize(nlp.content)[:20]\n",
    "sentences = posTagSentences(sentences_from_wiki)\n",
    "\n",
    "print('POS tagging for the first 20 sentences:')\n",
    "for sentence in sentences:\n",
    "    print()\n",
    "    print(sentence)"
   ]
  },
  {
   "cell_type": "markdown",
   "metadata": {},
   "source": [
    "---\n",
    "## Subsection 2"
   ]
  },
  {
   "cell_type": "code",
   "execution_count": 6,
   "metadata": {},
   "outputs": [
    {
     "data": {
      "text/plain": [
       "['language',\n",
       " 'processing',\n",
       " 'subfield',\n",
       " 'computer',\n",
       " 'science',\n",
       " 'intelligence',\n",
       " 'language',\n",
       " 'program',\n",
       " 'language',\n",
       " 'goal',\n",
       " 'computer',\n",
       " 'capable',\n",
       " 'language',\n",
       " 'technology',\n",
       " 'information',\n",
       " 'categorize',\n",
       " 'language',\n",
       " 'processing',\n",
       " 'speech',\n",
       " 'recognition',\n",
       " 'language',\n",
       " 'understanding',\n",
       " 'language',\n",
       " 'generation',\n",
       " 'language',\n",
       " 'processing',\n",
       " 'article',\n",
       " 'Machinery',\n",
       " 'test',\n",
       " 'criterion',\n",
       " 'intelligence',\n",
       " 'time',\n",
       " 'problem',\n",
       " 'separate',\n",
       " 'intelligence',\n",
       " 'test',\n",
       " 'task',\n",
       " 'interpretation',\n",
       " 'generation',\n",
       " 'language',\n",
       " 'premise',\n",
       " 's',\n",
       " 'room',\n",
       " 'experiment',\n",
       " 'collection',\n",
       " 'e',\n",
       " 'g',\n",
       " 'phrasebook',\n",
       " 'computer',\n",
       " 'language',\n",
       " 'understanding',\n",
       " 'experiment',\n",
       " 'translation',\n",
       " 'sixty',\n",
       " 'machine',\n",
       " 'translation',\n",
       " 'problem',\n",
       " 'progress',\n",
       " 'report',\n",
       " 'year',\n",
       " 'research',\n",
       " 'machine',\n",
       " 'translation',\n",
       " 'research',\n",
       " 'machine',\n",
       " 'translation',\n",
       " 'machine',\n",
       " 'translation',\n",
       " 'language',\n",
       " 'language',\n",
       " 'system',\n",
       " 'simulation',\n",
       " 'psychotherapist',\n",
       " 'information',\n",
       " 'thought',\n",
       " 'emotion',\n",
       " 'interaction',\n",
       " 'patient',\n",
       " 'knowledge',\n",
       " 'base',\n",
       " 'response',\n",
       " 'example',\n",
       " 'head',\n",
       " 'head',\n",
       " 'world',\n",
       " 'information',\n",
       " 'computer',\n",
       " 'time',\n",
       " 'e',\n",
       " 'g',\n",
       " 'mark',\n",
       " 'day',\n",
       " 'time',\n",
       " 'research',\n",
       " 'rule',\n",
       " 'parsing',\n",
       " 'e',\n",
       " 'g',\n",
       " 'development',\n",
       " 'operationalization',\n",
       " 'grammar',\n",
       " 'morphology',\n",
       " 'e',\n",
       " 'level',\n",
       " 'morphology',\n",
       " 'e',\n",
       " 'g',\n",
       " 'algorithm',\n",
       " 'reference',\n",
       " 'e',\n",
       " 'g',\n",
       " 'language',\n",
       " 'understanding',\n",
       " 'e',\n",
       " 'g']"
      ]
     },
     "execution_count": 6,
     "metadata": {},
     "output_type": "execute_result"
    }
   ],
   "source": [
    "def getPOS(pos, sentences):\n",
    "    return [word[0] for sentence in sentences for word in sentence if word[1] == pos]\n",
    "\n",
    "getPOS('NN', sentences)"
   ]
  },
  {
   "cell_type": "code",
   "execution_count": 269,
   "metadata": {
    "scrolled": true
   },
   "outputs": [
    {
     "data": {
      "text/plain": [
       "['language',\n",
       " 'processing',\n",
       " 'subfield',\n",
       " 'computer',\n",
       " 'science',\n",
       " 'intelligence',\n",
       " 'language',\n",
       " 'program',\n",
       " 'language',\n",
       " 'goal',\n",
       " 'computer',\n",
       " 'capable',\n",
       " 'language',\n",
       " 'technology',\n",
       " 'information',\n",
       " 'categorize',\n",
       " 'language',\n",
       " 'processing',\n",
       " 'speech',\n",
       " 'recognition',\n",
       " 'language',\n",
       " 'understanding',\n",
       " 'language',\n",
       " 'generation',\n",
       " 'language',\n",
       " 'processing',\n",
       " 'article',\n",
       " 'Machinery',\n",
       " 'test',\n",
       " 'criterion',\n",
       " 'intelligence',\n",
       " 'time',\n",
       " 'problem',\n",
       " 'separate',\n",
       " 'intelligence',\n",
       " 'test',\n",
       " 'task',\n",
       " 'interpretation',\n",
       " 'generation',\n",
       " 'language',\n",
       " 'premise',\n",
       " 's',\n",
       " 'room',\n",
       " 'experiment',\n",
       " 'collection',\n",
       " 'e',\n",
       " 'g',\n",
       " 'phrasebook',\n",
       " 'computer',\n",
       " 'language',\n",
       " 'understanding',\n",
       " 'experiment',\n",
       " 'translation',\n",
       " 'sixty',\n",
       " 'machine',\n",
       " 'translation',\n",
       " 'problem',\n",
       " 'progress',\n",
       " 'report',\n",
       " 'year',\n",
       " 'research',\n",
       " 'machine',\n",
       " 'translation',\n",
       " 'research',\n",
       " 'machine',\n",
       " 'translation',\n",
       " 'machine',\n",
       " 'translation',\n",
       " 'language',\n",
       " 'language',\n",
       " 'system',\n",
       " 'simulation',\n",
       " 'psychotherapist',\n",
       " 'information',\n",
       " 'thought',\n",
       " 'emotion',\n",
       " 'interaction',\n",
       " 'patient',\n",
       " 'knowledge',\n",
       " 'base',\n",
       " 'response',\n",
       " 'example',\n",
       " 'head',\n",
       " 'head',\n",
       " 'world',\n",
       " 'information',\n",
       " 'computer',\n",
       " 'time',\n",
       " 'e',\n",
       " 'g',\n",
       " 'mark',\n",
       " 'day',\n",
       " 'time',\n",
       " 'research',\n",
       " 'rule',\n",
       " 'parsing',\n",
       " 'e',\n",
       " 'g',\n",
       " 'development',\n",
       " 'operationalization',\n",
       " 'grammar',\n",
       " 'morphology',\n",
       " 'e',\n",
       " 'level',\n",
       " 'morphology',\n",
       " 'e',\n",
       " 'g',\n",
       " 'algorithm',\n",
       " 'reference',\n",
       " 'e',\n",
       " 'g',\n",
       " 'language',\n",
       " 'understanding',\n",
       " 'e',\n",
       " 'g',\n",
       " 'a',\n",
       " 'the',\n",
       " 'The',\n",
       " 'a',\n",
       " 'the',\n",
       " 'the',\n",
       " 'the',\n",
       " 'The',\n",
       " 'the',\n",
       " 'the',\n",
       " 'the',\n",
       " 'an',\n",
       " 'the',\n",
       " 'a',\n",
       " 'the',\n",
       " 'a',\n",
       " 'The',\n",
       " 'a',\n",
       " 'the',\n",
       " 'The',\n",
       " 'a',\n",
       " 'a',\n",
       " 'the',\n",
       " 'those',\n",
       " 'the',\n",
       " 'The',\n",
       " 'The',\n",
       " 'a',\n",
       " 'the',\n",
       " 'the',\n",
       " 'the',\n",
       " 'the',\n",
       " 'Some',\n",
       " 'the',\n",
       " 'a',\n",
       " 'a',\n",
       " 'a',\n",
       " 'no',\n",
       " 'a',\n",
       " 'the',\n",
       " 'the',\n",
       " 'a',\n",
       " 'the',\n",
       " 'this',\n",
       " 'the',\n",
       " 'The',\n",
       " 'the',\n",
       " 'the',\n",
       " 'the',\n",
       " 'a',\n",
       " 'the']"
      ]
     },
     "execution_count": 269,
     "metadata": {},
     "output_type": "execute_result"
    }
   ],
   "source": [
    "def getPOSList(posList, sentences):\n",
    "    return [word for pos in posList for word in getPOS(pos, sentences)]\n",
    "\n",
    "getPOSList(['NN', 'DT'], sentences)"
   ]
  },
  {
   "cell_type": "markdown",
   "metadata": {},
   "source": [
    "---\n",
    "## Subsection 3"
   ]
  },
  {
   "cell_type": "code",
   "execution_count": 8,
   "metadata": {},
   "outputs": [
    {
     "name": "stdout",
     "output_type": "stream",
     "text": [
      "['language', 'processing', 'subfield', 'computer', 'science', 'intelligence', 'language', 'program', 'language', 'goal', 'computer', 'capable', 'language', 'technology', 'information', 'categorize', 'language', 'processing', 'speech', 'recognition', 'language', 'understanding', 'language', 'generation', 'language', 'processing', 'article', 'Machinery', 'test', 'criterion', 'intelligence', 'time', 'problem', 'separate', 'intelligence', 'test', 'task', 'interpretation', 'generation', 'language', 'premise', 's', 'room', 'experiment', 'collection', 'e', 'g', 'phrasebook', 'computer', 'language', 'understanding', 'experiment', 'translation', 'sixty', 'machine', 'translation', 'problem', 'progress', 'report', 'year', 'research', 'machine', 'translation', 'research', 'machine', 'translation', 'machine', 'translation', 'language', 'language', 'system', 'simulation', 'psychotherapist', 'information', 'thought', 'emotion', 'interaction', 'patient', 'knowledge', 'base', 'response', 'example', 'head', 'head', 'world', 'information', 'computer', 'time', 'e', 'g', 'mark', 'day', 'time', 'research', 'rule', 'parsing', 'e', 'g', 'development', 'operationalization', 'grammar', 'morphology', 'e', 'level', 'morphology', 'e', 'g', 'algorithm', 'reference', 'e', 'g', 'language', 'understanding', 'e', 'g', 'linguistics', 'interactions', 'computers', 'computers', 'amounts', 'data', 'contents', 'documents', 'nuances', 'insights', 'documents', 'documents', 'Challenges', 'roots', 'rules', 'questions', 'answers', 'tasks', 'rules', 'data', '1950s', 'sentences', 'authors', 'years', 'expectations', '1980s', 'systems', '1960s', 'systems', '1960s', 'blocks', 'worlds', 'vocabularies', '1970s', 'programmers', 'ontologies', 'data', 'Examples', 'chatterbots', '1980s', 'methods', 'areas', 'semantics', 'areas', 'NLP', 'History', 'Natural', 'Alan', 'Turing', 'Intelligence', 'Turing', 'Symbolic', 'NLP', 'NLP', 'John', 'Searle', 'NLP', 'Georgetown', 'English', 'ALPAC', 'SHRDLU', 'ELIZA', 'Joseph', 'Weizenbaum', 'ELIZA', 'ELIZA', 'My', 'MARGIE', 'Schank', 'SAM', 'Cullingford', 'PAM', 'Wilensky', 'TaleSpin', 'Meehan', 'QUALM', 'Lehnert', 'Politics', 'Carbonell', 'Plot', 'Units', 'Lehnert', 'PARRY', 'NLP', 'Focus', 'HPSG', 'Lesk', 'Centering', 'Theory', 'Structure', 'Theory', 'process', 'analyze', 'organize', 'be', 'fulfill', 'provide', 'say', 'write', 'understanding', 'including', 'Computing', 'matching', 'applying', 'funding', 'processing', 'working', 'Using', 'responding', 'published', 'proposed', 'was', 'claimed', 'was', 'found', 'had', 'was', 'was', 'were', 'were', 'provided', 'exceeded', 'began', 'structured', 'were', 'included', 'concerned', 'contained', 'titled', 'called', 'articulated', 'proposed', 'summarized', 'Given', 'failed', 'reduced', 'conducted', 'developed', 'developed', 'written', 'written', 'based', 'involve', 'do', 'are', 'is', 'is', 'has', 'is', 'includes', 'involves', 'is', 'emulates', 'confronts', 'hurts', 'hurts']\n"
     ]
    }
   ],
   "source": [
    "content_words = getPOSList(['NN', 'NNS', 'NNP', 'NNPS', 'VB', 'VBG', 'VBD', 'VBN', 'VBP', 'VBZ'], sentences)\n",
    "print(content_words)"
   ]
  },
  {
   "cell_type": "code",
   "execution_count": 9,
   "metadata": {},
   "outputs": [
    {
     "name": "stdout",
     "output_type": "stream",
     "text": [
      "Percentage of content words from the text:\n",
      "0.517175572519084\n"
     ]
    }
   ],
   "source": [
    "print('Percentage of content words from the text:')\n",
    "print(len(content_words) / sum([len(sentence) for sentence in sentences]))"
   ]
  },
  {
   "cell_type": "markdown",
   "metadata": {},
   "source": [
    "---\n",
    "## Subsection 4"
   ]
  },
  {
   "cell_type": "code",
   "execution_count": 10,
   "metadata": {},
   "outputs": [],
   "source": [
    "def tagmap(pos):\n",
    "    if pos[0] == 'J':\n",
    "        return 'a'\n",
    "    elif pos[0] == 'V':\n",
    "        return 'v'\n",
    "    elif pos[0] == 'R':\n",
    "        return 'r'\n",
    "    else:\n",
    "        return 'n'"
   ]
  },
  {
   "cell_type": "code",
   "execution_count": 11,
   "metadata": {
    "scrolled": false
   },
   "outputs": [
    {
     "name": "stdout",
     "output_type": "stream",
     "text": [
      "╒═════════════════╤═══════╤════════════════════════╤══════════════════════════╕\n",
      "│ Original word   │ POS   │ Simple lemmatization   │ Lemmatization with POS   │\n",
      "╞═════════════════╪═══════╪════════════════════════╪══════════════════════════╡\n",
      "│ including       │ VBG   │ including              │ include                  │\n",
      "├─────────────────┼───────┼────────────────────────┼──────────────────────────┤\n",
      "│ concerned       │ VBN   │ concerned              │ concern                  │\n",
      "├─────────────────┼───────┼────────────────────────┼──────────────────────────┤\n",
      "│ emulates        │ VBZ   │ emulates               │ emulate                  │\n",
      "├─────────────────┼───────┼────────────────────────┼──────────────────────────┤\n",
      "│ titled          │ VBN   │ titled                 │ title                    │\n",
      "├─────────────────┼───────┼────────────────────────┼──────────────────────────┤\n",
      "│ summarized      │ VBN   │ summarized             │ summarize                │\n",
      "├─────────────────┼───────┼────────────────────────┼──────────────────────────┤\n",
      "│ is              │ VBZ   │ is                     │ be                       │\n",
      "├─────────────────┼───────┼────────────────────────┼──────────────────────────┤\n",
      "│ includes        │ VBZ   │ includes               │ include                  │\n",
      "├─────────────────┼───────┼────────────────────────┼──────────────────────────┤\n",
      "│ claimed         │ VBD   │ claimed                │ claim                    │\n",
      "├─────────────────┼───────┼────────────────────────┼──────────────────────────┤\n",
      "│ articulated     │ VBN   │ articulated            │ articulate               │\n",
      "├─────────────────┼───────┼────────────────────────┼──────────────────────────┤\n",
      "│ involves        │ VBZ   │ involves               │ involve                  │\n",
      "├─────────────────┼───────┼────────────────────────┼──────────────────────────┤\n",
      "│ confronts       │ VBZ   │ confronts              │ confront                 │\n",
      "├─────────────────┼───────┼────────────────────────┼──────────────────────────┤\n",
      "│ understanding   │ VBG   │ understanding          │ understand               │\n",
      "├─────────────────┼───────┼────────────────────────┼──────────────────────────┤\n",
      "│ proposed        │ VBN   │ proposed               │ propose                  │\n",
      "├─────────────────┼───────┼────────────────────────┼──────────────────────────┤\n",
      "│ applying        │ VBG   │ applying               │ apply                    │\n",
      "├─────────────────┼───────┼────────────────────────┼──────────────────────────┤\n",
      "│ has             │ VBZ   │ ha                     │ have                     │\n",
      "├─────────────────┼───────┼────────────────────────┼──────────────────────────┤\n",
      "│ contained       │ VBN   │ contained              │ contain                  │\n",
      "├─────────────────┼───────┼────────────────────────┼──────────────────────────┤\n",
      "│ matching        │ VBG   │ matching               │ match                    │\n",
      "├─────────────────┼───────┼────────────────────────┼──────────────────────────┤\n",
      "│ proposed        │ VBD   │ proposed               │ propose                  │\n",
      "├─────────────────┼───────┼────────────────────────┼──────────────────────────┤\n",
      "│ called          │ VBN   │ called                 │ call                     │\n",
      "├─────────────────┼───────┼────────────────────────┼──────────────────────────┤\n",
      "│ as              │ RB    │ a                      │ as                       │\n",
      "├─────────────────┼───────┼────────────────────────┼──────────────────────────┤\n",
      "│ was             │ VBD   │ wa                     │ be                       │\n",
      "├─────────────────┼───────┼────────────────────────┼──────────────────────────┤\n",
      "│ published       │ VBD   │ published              │ publish                  │\n",
      "╘═════════════════╧═══════╧════════════════════════╧══════════════════════════╛\n"
     ]
    }
   ],
   "source": [
    "from nltk.stem import WordNetLemmatizer\n",
    "from tabulate import tabulate\n",
    "\n",
    "lem=WordNetLemmatizer()\n",
    "\n",
    "def pos_table(sentences, N):\n",
    "    table = {'Original word': [], 'POS': [], 'Simple lemmatization': [], 'Lemmatization with POS': []}\n",
    "\n",
    "    word_set = set([word for sentence in sentences[:N] for word in sentence])\n",
    "\n",
    "    for word in word_set:\n",
    "        lemmatization1 = lem.lemmatize(word[0])\n",
    "        lemmatization2 = lem.lemmatize(word[0], pos=tagmap(word[1]))\n",
    "\n",
    "        if (lemmatization1 != lemmatization2):        \n",
    "            table['Original word'].append(word[0])\n",
    "            table['POS'].append(word[1])\n",
    "            table['Simple lemmatization'].append(lemmatization1)\n",
    "            table['Lemmatization with POS'].append(lemmatization2)\n",
    "\n",
    "    return tabulate(table, headers='keys', tablefmt='fancy_grid')\n",
    "\n",
    "print(pos_table(sentences, 10))"
   ]
  },
  {
   "cell_type": "markdown",
   "metadata": {},
   "source": [
    "---\n",
    "## Subsection 5"
   ]
  },
  {
   "cell_type": "code",
   "execution_count": 12,
   "metadata": {},
   "outputs": [
    {
     "data": {
      "text/plain": [
       "[('CC', 18),\n",
       " ('CD', 21),\n",
       " ('DT', 51),\n",
       " ('IN', 60),\n",
       " ('JJ', 53),\n",
       " ('NN', 115),\n",
       " ('NNP', 47),\n",
       " ('NNS', 44),\n",
       " ('RB', 22),\n",
       " ('TO', 6),\n",
       " ('VB', 8),\n",
       " ('VBD', 17),\n",
       " ('VBG', 10),\n",
       " ('VBN', 16),\n",
       " ('VBZ', 11)]"
      ]
     },
     "execution_count": 12,
     "metadata": {},
     "output_type": "execute_result"
    }
   ],
   "source": [
    "from nltk.data import load\n",
    "\n",
    "tag_dict = load('help/tagsets/upenn_tagset.pickle')\n",
    "pos_tags = tag_dict.keys()\n",
    "\n",
    "tag_len = [(tag, len(getPOS(tag, sentences))) for tag in pos_tags]\n",
    "tag_len = list(filter(lambda x: x[1] > 5, tag_len))\n",
    "tag_len.sort()\n",
    "tag_len"
   ]
  },
  {
   "cell_type": "code",
   "execution_count": 41,
   "metadata": {
    "scrolled": true
   },
   "outputs": [
    {
     "data": {
      "image/png": "[encoded data removed]",
      "text/plain": [
       "<Figure size 432x288 with 1 Axes>"
      ]
     },
     "metadata": {
      "needs_background": "light"
     },
     "output_type": "display_data"
    }
   ],
   "source": [
    "import matplotlib.pyplot as plt\n",
    "\n",
    "plt.xlabel('Part of Speech')\n",
    "plt.ylabel('Number of Words')\n",
    "\n",
    "plt.bar(list(map(lambda x: x[0], tag_len)), list(map(lambda x: x[1], tag_len)))\n",
    "\n",
    "plt.savefig('POS_count.png')\n",
    "\n",
    "plt.show()"
   ]
  },
  {
   "cell_type": "markdown",
   "metadata": {},
   "source": [
    "---\n",
    "## Subsection 6"
   ]
  },
  {
   "cell_type": "code",
   "execution_count": 374,
   "metadata": {
    "scrolled": true
   },
   "outputs": [],
   "source": [
    "general_grammar = \"\"\"S -> NP VP\n",
    "S -> VP\n",
    "NP -> DT NN\n",
    "NP -> IN NNP\n",
    "NP -> DT JJ NN\n",
    "NP -> PRP\n",
    "VP -> VBP NP\n",
    "VP -> VBP VP\n",
    "VP -> VBG NP\n",
    "VP -> TO VP\n",
    "VP -> VB\n",
    "VP -> VB NP\n",
    "VP -> VBD\n",
    "VP -> VBD NP\n",
    "\"\"\"\n",
    "\n",
    "def make_grammar(raw_sentences):\n",
    "    sentences = posTagSentences(raw_sentences)\n",
    "    sentences = [(word[0].lower(), word[1]) for sentence in sentences for word in sentence]\n",
    "#     sentences = [(word[0].lower(), word[1][0]) if word[1][0] in 'N' else (word[0].lower(), word[1]) \n",
    "#                  for sentence in sentences for word in sentence]\n",
    "\n",
    "    sent = list(map(lambda x: x[0], sentences))\n",
    "\n",
    "    posList = list(set(map(lambda x: x[1], sentences)))\n",
    "\n",
    "    grammar = general_grammar\n",
    "\n",
    "    for pos in posList:\n",
    "        format_pos = set([word for word in getPOS(pos, [sentences])])\n",
    "        join_pos = '\"' + '\" | \"'.join(format_pos) + '\"'\n",
    "        grammar += f'{pos} -> {join_pos}\\n'\n",
    "\n",
    "    return sent, nltk.CFG.fromstring(grammar)"
   ]
  },
  {
   "cell_type": "code",
   "execution_count": 382,
   "metadata": {},
   "outputs": [
    {
     "name": "stdout",
     "output_type": "stream",
     "text": [
      "Grammar with 19 productions (start state = S)\n",
      "    S -> NP VP\n",
      "    S -> VP\n",
      "    NP -> DT NN\n",
      "    NP -> IN NNP\n",
      "    NP -> DT JJ NN\n",
      "    NP -> PRP\n",
      "    VP -> VBP NP\n",
      "    VP -> VBP VP\n",
      "    VP -> VBG NP\n",
      "    VP -> TO VP\n",
      "    VP -> VB\n",
      "    VP -> VB NP\n",
      "    VP -> VBD\n",
      "    VP -> VBD NP\n",
      "    VBP -> 'am'\n",
      "    NNP -> 'paul'\n",
      "    PRP -> 'i'\n",
      "    IN -> 'with'\n",
      "    VBG -> 'talking'\n"
     ]
    }
   ],
   "source": [
    "sent, grammar = make_grammar(['I am talking with Paul.'])\n",
    "print(grammar)"
   ]
  },
  {
   "cell_type": "code",
   "execution_count": 383,
   "metadata": {},
   "outputs": [],
   "source": [
    "def get_rdp_tree(sent, grammar):\n",
    "    rdp = nltk.RecursiveDescentParser(grammar)\n",
    "\n",
    "    for tree in rdp.parse(sent):\n",
    "        return tree"
   ]
  },
  {
   "cell_type": "code",
   "execution_count": 384,
   "metadata": {},
   "outputs": [
    {
     "name": "stdout",
     "output_type": "stream",
     "text": [
      "(S\n",
      "  (NP (PRP i))\n",
      "  (VP (VBP am) (VP (VBG talking) (NP (IN with) (NNP paul)))))\n"
     ]
    }
   ],
   "source": [
    "rdp_tree = get_rdp_tree(sent, grammar)\n",
    "print(rdp_tree)"
   ]
  },
  {
   "cell_type": "markdown",
   "metadata": {},
   "source": [
    "---\n",
    "## Subsection 7"
   ]
  },
  {
   "cell_type": "code",
   "execution_count": 363,
   "metadata": {},
   "outputs": [],
   "source": [
    "def get_srp_tree(sent, grammar):\n",
    "    srp = nltk.ShiftReduceParser(grammar)\n",
    "\n",
    "    for tree in srp.parse(sent):\n",
    "        return tree"
   ]
  },
  {
   "cell_type": "code",
   "execution_count": 364,
   "metadata": {},
   "outputs": [
    {
     "name": "stdout",
     "output_type": "stream",
     "text": [
      "None\n"
     ]
    }
   ],
   "source": [
    "srp_tree = get_srp_tree(sent, grammar)\n",
    "print(srp_tree)"
   ]
  },
  {
   "cell_type": "code",
   "execution_count": 365,
   "metadata": {},
   "outputs": [
    {
     "name": "stdout",
     "output_type": "stream",
     "text": [
      "False\n"
     ]
    }
   ],
   "source": [
    "print(rdp_tree == srp_tree)"
   ]
  },
  {
   "cell_type": "code",
   "execution_count": 366,
   "metadata": {},
   "outputs": [],
   "source": [
    "def compare_trees(sentence):\n",
    "    sent, grammar = make_grammar(sentence)\n",
    "\n",
    "    rdp_tree = get_rdp_tree(sent, grammar)\n",
    "    print('Recursive Descent Parser Tree:')\n",
    "    print(rdp_tree)\n",
    "    print()\n",
    "\n",
    "    srp_tree = get_srp_tree(sent, grammar)\n",
    "    print('Shift Reduce Parser Tree:')\n",
    "    print(srp_tree)\n",
    "    print()\n",
    "\n",
    "    print('Are the trees equal?')\n",
    "    print(rdp_tree == srp_tree)"
   ]
  },
  {
   "cell_type": "code",
   "execution_count": 367,
   "metadata": {},
   "outputs": [
    {
     "name": "stdout",
     "output_type": "stream",
     "text": [
      "Recursive Descent Parser Tree:\n",
      "(S\n",
      "  (NP (PRP i))\n",
      "  (VP (VBP am) (VP (VBG talking) (NP (IN with) (NNP paul)))))\n",
      "\n",
      "Shift Reduce Parser Tree:\n",
      "None\n",
      "\n",
      "Are the trees equal?\n",
      "False\n"
     ]
    }
   ],
   "source": [
    "compare_trees(['I am talking with Paul.'])"
   ]
  },
  {
   "cell_type": "code",
   "execution_count": 381,
   "metadata": {},
   "outputs": [
    {
     "name": "stdout",
     "output_type": "stream",
     "text": [
      "Recursive Descent Parser Tree:\n",
      "(S (NP (PRP we)) (VP (VBD laughed)))\n",
      "\n",
      "Shift Reduce Parser Tree:\n",
      "(S (NP (PRP we)) (VP (VBD laughed)))\n",
      "\n",
      "Are the trees equal?\n",
      "True\n"
     ]
    }
   ],
   "source": [
    "compare_trees(['We laughed.'])"
   ]
  },
  {
   "cell_type": "code",
   "execution_count": null,
   "metadata": {},
   "outputs": [],
   "source": []
  }
 ],
 "metadata": {
  "kernelspec": {
   "display_name": "Python 3",
   "language": "python",
   "name": "python3"
  },
  "language_info": {
   "codemirror_mode": {
    "name": "ipython",
    "version": 3
   },
   "file_extension": ".py",
   "mimetype": "text/x-python",
   "name": "python",
   "nbconvert_exporter": "python",
   "pygments_lexer": "ipython3",
   "version": "3.7.6"
  }
 },
 "nbformat": 4,
 "nbformat_minor": 4
}
