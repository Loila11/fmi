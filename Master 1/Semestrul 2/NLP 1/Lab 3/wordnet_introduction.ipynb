{
 "cells": [
  {
   "cell_type": "code",
   "execution_count": 1,
   "metadata": {},
   "outputs": [],
   "source": [
    "from nltk.corpus import wordnet"
   ]
  },
  {
   "cell_type": "code",
   "execution_count": 2,
   "metadata": {},
   "outputs": [],
   "source": [
    "def get_synset(word):\n",
    "    return wordnet.synsets(word)[0]\n",
    "\n",
    "def get_synset_list(words):\n",
    "    synsets = []\n",
    "    for word in words:\n",
    "        synsets += [get_synset(word)]\n",
    "    return synsets"
   ]
  },
  {
   "cell_type": "markdown",
   "metadata": {},
   "source": [
    "## 1. Word glosses"
   ]
  },
  {
   "cell_type": "code",
   "execution_count": 3,
   "metadata": {},
   "outputs": [
    {
     "name": "stdout",
     "output_type": "stream",
     "text": [
      "Glosses for the word \"school\":\n",
      "school.n.01: an educational institution\n",
      "school.n.02: a building where young people receive education\n",
      "school.n.03: the process of being formally educated at a school\n",
      "school.n.04: a body of creative artists or writers or thinkers linked by a similar style or by similar teachers\n",
      "school.n.05: the period of instruction in a school; the time period when school is in session\n",
      "school.n.06: an educational institution's faculty and students\n",
      "school.n.07: a large group of fish\n",
      "school.v.01: educate in or as if in a school\n",
      "educate.v.03: teach or refine to be discriminative in taste or judgment\n",
      "school.v.03: swim in or form a large group of fish\n"
     ]
    }
   ],
   "source": [
    "def get_gloss(synset):\n",
    "    print(f'{synset.name()}: {synset.definition()}')\n",
    "\n",
    "def get_glosses(word):\n",
    "    print(f'Glosses for the word \"{word}\":')\n",
    "\n",
    "    for synset in wordnet.synsets(word):\n",
    "        get_gloss(synset)\n",
    "\n",
    "get_glosses('school')"
   ]
  },
  {
   "cell_type": "markdown",
   "metadata": {},
   "source": [
    "## 2. Synonyms"
   ]
  },
  {
   "cell_type": "code",
   "execution_count": 4,
   "metadata": {},
   "outputs": [
    {
     "name": "stdout",
     "output_type": "stream",
     "text": [
      "('strength', 'force'): physical energy or intensity\n"
     ]
    }
   ],
   "source": [
    "def check_synonyms(word1, word2):\n",
    "    def find_similarity(word1, word2):\n",
    "        for synset in wordnet.synsets(word1):\n",
    "            if synset.lemmas()[0].name() == word2:\n",
    "                print(f'{word1, word2}: {synset.definition()}')\n",
    "                return True\n",
    "        return False\n",
    "\n",
    "    if not find_similarity(word1, word2):\n",
    "        find_similarity(word2, word1)\n",
    "\n",
    "check_synonyms('force', 'strength')"
   ]
  },
  {
   "cell_type": "markdown",
   "metadata": {},
   "source": [
    "## 3. Holonyms and meronyms"
   ]
  },
  {
   "cell_type": "code",
   "execution_count": 5,
   "metadata": {},
   "outputs": [
    {
     "name": "stdout",
     "output_type": "stream",
     "text": [
      "Holonyms:\n",
      "Substance: []\n",
      "Part: []\n",
      "Member: [Synset('forest.n.01')]\n",
      "\n",
      "Meronyms:\n",
      "Substance: [Synset('heartwood.n.01'), Synset('sapwood.n.01')]\n",
      "Part: [Synset('burl.n.02'), Synset('crown.n.07'), Synset('limb.n.02'), Synset('stump.n.01'), Synset('trunk.n.01')]\n",
      "Member: []\n",
      "\n",
      "Holonyms and meronyms for the synset \"tree.n.01\":\n",
      "([Synset('forest.n.01')], [Synset('heartwood.n.01'), Synset('sapwood.n.01'), Synset('burl.n.02'), Synset('crown.n.07'), Synset('limb.n.02'), Synset('stump.n.01'), Synset('trunk.n.01')])\n"
     ]
    }
   ],
   "source": [
    "def holonyms_meronyms(synset):\n",
    "    holonyms = synset.substance_holonyms() + synset.part_holonyms() + synset.member_holonyms()\n",
    "    meronyms = synset.substance_meronyms() + synset.part_meronyms() + synset.member_meronyms()\n",
    "    return (holonyms, meronyms)\n",
    "\n",
    "synset = get_synset('tree')\n",
    "\n",
    "print(f'Holonyms:\\n' + \\\n",
    "      f'Substance: {synset.substance_holonyms()}\\n' + \\\n",
    "      f'Part: {synset.part_holonyms()}\\n' + \\\n",
    "      f'Member: {synset.member_holonyms()}\\n')\n",
    "\n",
    "print(f'Meronyms:\\n' + \\\n",
    "      f'Substance: {synset.substance_meronyms()}\\n' + \\\n",
    "      f'Part: {synset.part_meronyms()}\\n' + \\\n",
    "      f'Member: {synset.member_meronyms()}\\n')\n",
    "\n",
    "print(f'Holonyms and meronyms for the synset \"{synset.name()}\":\\n{holonyms_meronyms(synset)}')"
   ]
  },
  {
   "cell_type": "markdown",
   "metadata": {},
   "source": [
    "## 4. Path of hypernyms"
   ]
  },
  {
   "cell_type": "code",
   "execution_count": 6,
   "metadata": {},
   "outputs": [
    {
     "name": "stdout",
     "output_type": "stream",
     "text": [
      "[Synset('tree.n.01'), Synset('woody_plant.n.01'), Synset('vascular_plant.n.01'), Synset('plant.n.02'), Synset('organism.n.01'), Synset('living_thing.n.01'), Synset('whole.n.02'), Synset('object.n.01'), Synset('physical_entity.n.01'), Synset('entity.n.01')]\n"
     ]
    }
   ],
   "source": [
    "def hypernyms_path(synset):\n",
    "    hypernyms = []\n",
    "\n",
    "    while True:\n",
    "        hypernyms += [synset]\n",
    "        synset = synset.hypernyms()\n",
    "\n",
    "        if not synset:\n",
    "            break\n",
    "        synset = synset[0]\n",
    "\n",
    "    return hypernyms\n",
    "\n",
    "synset = get_synset('tree')\n",
    "print(hypernyms_path(synset))"
   ]
  },
  {
   "cell_type": "markdown",
   "metadata": {},
   "source": [
    "## 5. Closest common hypernyms"
   ]
  },
  {
   "cell_type": "code",
   "execution_count": 7,
   "metadata": {},
   "outputs": [
    {
     "name": "stdout",
     "output_type": "stream",
     "text": [
      "Synset('physical_entity.n.01')\n"
     ]
    }
   ],
   "source": [
    "def closest_hypernyms(synset1, synset2):\n",
    "    path1 = hypernyms_path(synset1)\n",
    "    path2 = hypernyms_path(synset2)\n",
    "\n",
    "    min_dist = len(path1) + len(path2) + 2\n",
    "    hypernyms = []\n",
    "\n",
    "    for i in range(len(path1)):\n",
    "        for j in range(len(path2)):\n",
    "            if path1[i] == path2[j]:\n",
    "                if i + j < min_dist:\n",
    "                    min_dist = i + j\n",
    "                    hypernyms = path1[i]\n",
    "                    break\n",
    "\n",
    "                if i + j == min_dist:\n",
    "                    hypernyms += path1[i]\n",
    "                    break\n",
    "\n",
    "    return hypernyms\n",
    "\n",
    "synset1 = get_synset('tree')\n",
    "synset2 = get_synset('air')\n",
    "print(closest_hypernyms(synset1, synset2))"
   ]
  },
  {
   "cell_type": "markdown",
   "metadata": {},
   "source": [
    "## 6. Word similarity"
   ]
  },
  {
   "cell_type": "code",
   "execution_count": 8,
   "metadata": {},
   "outputs": [
    {
     "name": "stdout",
     "output_type": "stream",
     "text": [
      "[Synset('mouse.n.01'), Synset('animal.n.01'), Synset('object.n.01'), Synset('tree.n.01'), Synset('house.n.01'), Synset('public_school.n.01')]\n"
     ]
    }
   ],
   "source": [
    "def sort_similarity(synset, synset_list):\n",
    "    def synset_similarity(synset_comp):\n",
    "        return synset.path_similarity(synset_comp)\n",
    "\n",
    "    synset_list.sort(key=synset_similarity, reverse=True)\n",
    "    return synset_list\n",
    "\n",
    "synset = get_synset('cat')\n",
    "synset_list = get_synset_list(['animal', 'tree', 'house', 'object', 'public_school', 'mouse'])\n",
    "print(sort_similarity(synset, synset_list))"
   ]
  },
  {
   "cell_type": "markdown",
   "metadata": {},
   "source": [
    "## 7. Indirect meronyms"
   ]
  },
  {
   "cell_type": "code",
   "execution_count": 10,
   "metadata": {},
   "outputs": [
    {
     "name": "stdout",
     "output_type": "stream",
     "text": [
      "Are \"tree\" and \"air\" indirect meronyms? True\n"
     ]
    }
   ],
   "source": [
    "def indirect_meronyms(synset1, synset2):\n",
    "    def holonyms_path(synset):\n",
    "        holonyms = []\n",
    "        while True:\n",
    "            holonyms += [synset]\n",
    "            synset = holonyms_meronyms(synset1)[0]\n",
    "\n",
    "            if not synset or synset[0] == holonyms[-1]:\n",
    "                break\n",
    "            synset = synset[0]\n",
    "        return holonyms\n",
    "    \n",
    "    holonyms1 = holonyms_path(synset1)\n",
    "    holonyms2 = holonyms_path(synset2)\n",
    "\n",
    "    for holonym in holonyms1:\n",
    "        if holonym in holonyms2:\n",
    "            return True\n",
    "\n",
    "    for holonym in holonyms2:\n",
    "        if holonym in holonyms1:\n",
    "            return True\n",
    "\n",
    "    return False\n",
    "\n",
    "word1 = 'tree'\n",
    "word2 = 'air'\n",
    "print(f'Are \"{word1}\" and \"{word2}\" indirect meronyms?', indirect_meronyms(get_synset(word1), get_synset(word2)))"
   ]
  },
  {
   "cell_type": "markdown",
   "metadata": {},
   "source": [
    "## 8. Synonyms and antonyms"
   ]
  },
  {
   "cell_type": "code",
   "execution_count": 11,
   "metadata": {},
   "outputs": [
    {
     "name": "stdout",
     "output_type": "stream",
     "text": [
      "strong.a.01: having strength or power greater than average or expected\n",
      "Synonyms:  ['beardown', 'beefed-up', 'brawny', 'bullnecked', 'bullocky', 'fortified', 'hard', 'industrial-strength', 'ironlike', 'knock-down', 'noticeable', 'reinforced', 'robust', 'stiff', 'vehement', 'virile', 'well-knit']\n",
      "Antonyms:  ['weak']\n",
      "potent.a.03: having a strong physiological or chemical effect; ; ; ,\n",
      "Synonyms:  ['equipotent', 'multipotent']\n",
      "Antonyms:  ['impotent']\n"
     ]
    }
   ],
   "source": [
    "def synonyms_antonyms(word):\n",
    "    def get_adjectives(synset_list):\n",
    "        return [synset for synset in synset_list if synset.pos() == 'a']\n",
    "\n",
    "    def get_names(synset_list):\n",
    "        return [synset.lemmas()[0].name() for synset in synset_list]\n",
    "    \n",
    "    def get_lemma_names(synset_list):\n",
    "        return [synset.name() for synset in synset_list]\n",
    "\n",
    "    synset_list = get_adjectives(wordnet.synsets(word))\n",
    "\n",
    "    for synset in synset_list:\n",
    "        get_gloss(synset)\n",
    "        print('Synonyms: ', get_names(synset.similar_tos()))\n",
    "        print('Antonyms: ', get_lemma_names(synset.lemmas()[0].antonyms()))\n",
    "\n",
    "synonyms_antonyms('strong')"
   ]
  }
 ],
 "metadata": {
  "kernelspec": {
   "display_name": "Python 3",
   "language": "python",
   "name": "python3"
  },
  "language_info": {
   "codemirror_mode": {
    "name": "ipython",
    "version": 3
   },
   "file_extension": ".py",
   "mimetype": "text/x-python",
   "name": "python",
   "nbconvert_exporter": "python",
   "pygments_lexer": "ipython3",
   "version": "3.7.6"
  }
 },
 "nbformat": 4,
 "nbformat_minor": 4
}
