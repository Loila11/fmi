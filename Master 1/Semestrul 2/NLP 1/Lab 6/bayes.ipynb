{
 "cells": [
  {
   "cell_type": "code",
   "execution_count": 5,
   "metadata": {},
   "outputs": [
    {
     "name": "stderr",
     "output_type": "stream",
     "text": [
      "[nltk_data] Downloading package senseval to\n",
      "[nltk_data]     C:\\Users\\mirun\\AppData\\Roaming\\nltk_data...\n",
      "[nltk_data]   Unzipping corpora\\senseval.zip.\n"
     ]
    },
    {
     "data": {
      "text/plain": [
       "True"
      ]
     },
     "execution_count": 5,
     "metadata": {},
     "output_type": "execute_result"
    }
   ],
   "source": [
    "import nltk\n",
    "nltk.download('senseval')"
   ]
  },
  {
   "cell_type": "code",
   "execution_count": 14,
   "metadata": {},
   "outputs": [],
   "source": [
    "from nltk.stem import WordNetLemmatizer\n",
    "  \n",
    "lemmatizer = WordNetLemmatizer()"
   ]
  },
  {
   "cell_type": "code",
   "execution_count": 79,
   "metadata": {
    "scrolled": true
   },
   "outputs": [],
   "source": [
    "from nltk.corpus import senseval\n",
    "\n",
    "instances = senseval.instances('interest.pos')\n",
    "n = len(instances)\n",
    "\n",
    "y = np.array([])\n",
    "X = {}\n",
    "\n",
    "for i in range(n):\n",
    "    y = np.append(y, instances[i].senses)\n",
    "\n",
    "    for word in instances[i].context:\n",
    "        if word[1][0] in ['N', 'V', 'J', 'R']:\n",
    "            context = lemmatizer.lemmatize(word[0], pos = 'a' if word[1][0] == 'J' else word[1][0].lower())\n",
    "\n",
    "            if context not in X:\n",
    "                X[context] = np.zeros(n)\n",
    "            X[context][i] += 1\n",
    "\n",
    "context = list(X.keys())\n",
    "X = np.array([value for value in X.values()]).T"
   ]
  },
  {
   "cell_type": "code",
   "execution_count": 100,
   "metadata": {
    "scrolled": true
   },
   "outputs": [],
   "source": [
    "import numpy as np\n",
    "from sklearn.naive_bayes import MultinomialNB\n",
    "\n",
    "i10 = int(len(y) / 10)\n",
    "clf = MultinomialNB()\n",
    "clf.fit(X[i10:], y[i10:])\n",
    "predict = clf.predict(X[:i10])\n",
    "\n",
    "f = open('output.txt', 'w')\n",
    "f.write('Predicted label - Real label - Are they equal?\\n')\n",
    "\n",
    "accuracy = 0\n",
    "for i in range(i10):\n",
    "    are_eq = predict[i] == y[i]\n",
    "    accuracy += are_eq\n",
    "    f.write(f'{predict[i]} {y[i]} {are_eq}\\n')\n",
    "\n",
    "accuracy /= i10\n",
    "f.write(f'\\nClassifier accuracy: {accuracy}')\n",
    "f.close()"
   ]
  }
 ],
 "metadata": {
  "kernelspec": {
   "display_name": "Python 3",
   "language": "python",
   "name": "python3"
  },
  "language_info": {
   "codemirror_mode": {
    "name": "ipython",
    "version": 3
   },
   "file_extension": ".py",
   "mimetype": "text/x-python",
   "name": "python",
   "nbconvert_exporter": "python",
   "pygments_lexer": "ipython3",
   "version": "3.7.6"
  }
 },
 "nbformat": 4,
 "nbformat_minor": 4
}
