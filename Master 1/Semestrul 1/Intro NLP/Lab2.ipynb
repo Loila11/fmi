{
 "cells": [
  {
   "cell_type": "markdown",
   "metadata": {
    "id": "g1bls46SNnk0"
   },
   "source": [
    "# Text Preprocessing for non-English languages\n",
    "\n",
    "##Challenges\n",
    "* Diacritics restoration \n",
    "* Text segmentation for Chinese, Japanese, Arabic\n",
    "* You may need to have some knowledge about the language\n",
    "\n",
    "\n",
    "\n"
   ]
  },
  {
   "cell_type": "markdown",
   "metadata": {
    "id": "Eee1lFEWQgq9"
   },
   "source": [
    "##Case studies"
   ]
  },
  {
   "cell_type": "markdown",
   "metadata": {
    "id": "eu6CzKPSQof-"
   },
   "source": [
    "###Romanian\n"
   ]
  },
  {
   "cell_type": "code",
   "execution_count": null,
   "metadata": {
    "id": "_nWQUPlZaKR7"
   },
   "outputs": [],
   "source": [
    "from pprint import pprint\n",
    "\n",
    "romanian_text = '''Examenul Chunin începe 25. A zecea întrebare: Totul sau nimic!\n",
    "    Excepţie a făcut-o Hotinul, unde s-a aşezat o garnizoană turcească, care a început să jefuiască cu cruzime ţara.\n",
    "    Excitarea catatonică este o stare de agitaţie constantă şi de excitare motrică şi nervoasă.\n",
    "    Excreţiile parazitului irită pielea prpducând mâncărime şi răni produse de scărpinat, iau naştere papule, vezicule, pustule, infiltraţii, acestea prin infecţii secundare, se pot transforma în furunculi.\n",
    "    Executarea tabloului este precedată de o întreagă serie de schiţe.\n",
    "    Execuţia acestei lucrări a început în anul 1957 şi s-a finalizat în anul urmator.\n",
    "    Exemple de mesaje au fost eliminarea unui al doilea membru al tribului după ce a fost eliminat unul sau evitarea participării la Consiliul Tribal, dar cu preţul mutării intr-o locaţie mai puţin confortabilă.\n",
    "    Exemple de specii din grupul calmarilor pot servi Loligo vulgaris, Ommastrephes sagittatus, Ommastrephes slosnei pacificus, Chiroteuthis veranyi etc. Unele specii sunt exploatate pentru carnea lor comestibilă\n",
    "    '''\n",
    "pprint(romanian_text)"
   ]
  },
  {
   "cell_type": "markdown",
   "metadata": {
    "id": "e3SwK7ZIa3Gt"
   },
   "source": [
    "Lowercasing text"
   ]
  },
  {
   "cell_type": "code",
   "execution_count": null,
   "metadata": {
    "id": "YIrLujmWa5Mb"
   },
   "outputs": [],
   "source": [
    "romanian_text = romanian_text.lower()\n",
    "pprint(romanian_text)"
   ]
  },
  {
   "cell_type": "markdown",
   "metadata": {
    "id": "qBJNRbnzbAIe"
   },
   "source": [
    "Removing digits"
   ]
  },
  {
   "cell_type": "code",
   "execution_count": null,
   "metadata": {
    "id": "EmFfE5VSbCHo"
   },
   "outputs": [],
   "source": [
    "import re\n",
    "\n",
    "romanian_text = re.sub(' \\d+', '', romanian_text)\n",
    "pprint(romanian_text)"
   ]
  },
  {
   "cell_type": "markdown",
   "metadata": {
    "id": "D3vte5EFb7x0"
   },
   "source": [
    "Removing diacritics using [Unidecode](https://pypi.org/project/Unidecode/). Transforming Unicode text in ASCII."
   ]
  },
  {
   "cell_type": "code",
   "execution_count": null,
   "metadata": {
    "id": "sOxU-1bXcGBv"
   },
   "outputs": [],
   "source": [
    "!pip install unidecode"
   ]
  },
  {
   "cell_type": "code",
   "execution_count": null,
   "metadata": {
    "id": "N2LOnLH5b9nZ"
   },
   "outputs": [],
   "source": [
    "import unidecode\n",
    "romanian_text  = unidecode.unidecode(romanian_text)\n",
    "pprint(romanian_text)"
   ]
  },
  {
   "cell_type": "markdown",
   "metadata": {
    "id": "Nu_mud4-bMoA"
   },
   "source": [
    "Sentence tokenization"
   ]
  },
  {
   "cell_type": "code",
   "execution_count": null,
   "metadata": {
    "id": "zP9KEQgmbRey"
   },
   "outputs": [],
   "source": [
    "from nltk import sent_tokenize\n",
    "import nltk\n",
    "nltk.download('punkt')\n",
    "\n",
    "sent_romanian = sent_tokenize(romanian_text)\n",
    "sent_romanian "
   ]
  },
  {
   "cell_type": "markdown",
   "metadata": {
    "id": "JAhei-_DbuMB"
   },
   "source": [
    "Word tokenization"
   ]
  },
  {
   "cell_type": "code",
   "execution_count": null,
   "metadata": {
    "id": "KZSvPmlVdYZH"
   },
   "outputs": [],
   "source": [
    "from nltk import word_tokenize\n",
    "import string\n",
    "\n",
    "\n",
    "sent_romanian = [sent.translate(str.maketrans('', '', string.punctuation)) for sent in sent_romanian]\n",
    "\n",
    "words_romanian = [[word_tokenize(sent) for sent in sent_romanian]]\n",
    "pprint(words_romanian) "
   ]
  },
  {
   "cell_type": "markdown",
   "metadata": {
    "id": "f14iGgZq-7cW"
   },
   "source": [
    "spaCy on Romanian text"
   ]
  },
  {
   "cell_type": "markdown",
   "metadata": {
    "id": "Rjn9U8a5Qqxm"
   },
   "source": [
    "###Japanese \n",
    "\n",
    "[Japanese punctuation](https://en.wikipedia.org/wiki/Japanese_punctuation)"
   ]
  },
  {
   "cell_type": "code",
   "execution_count": 22,
   "metadata": {
    "id": "ajsK1qxrGu4S"
   },
   "outputs": [],
   "source": [
    "japanese_text = '''$100ベットしていた場合には$100の配当を得られる。\n",
    "    なお、100形のうち101 - 110の10両は当時丸ノ内線方南町支線用であり 、これの代替には1500N形投入により2000形を10両 (2031 - 2040) 捻出して対応している。\n",
    "    コンセプトは「100時間遊べるおまけ」。\n",
    "    なお100系1･2次車の床面高さは従前通りの1150mmである。\n",
    "    ゴチ10・12・15ではMCを担当。\n",
    "    ! 101番目の魔物 （ 大海恵 ） 2005年 * 劇場版 金色のガッシュベル!\n",
    "    1088年に誕生した人物及び著名な動物 。'''"
   ]
  },
  {
   "cell_type": "markdown",
   "metadata": {
    "id": "gMzZlhIcHaDM"
   },
   "source": [
    "Removing digits"
   ]
  },
  {
   "cell_type": "code",
   "execution_count": 23,
   "metadata": {
    "colab": {
     "base_uri": "https://localhost:8080/",
     "height": 52
    },
    "id": "At5P_Fd-Hb_y",
    "outputId": "2a494362-cbcc-43c8-a185-8b5665c1e4cb"
   },
   "outputs": [
    {
     "data": {
      "application/vnd.google.colaboratory.intrinsic+json": {
       "type": "string"
      },
      "text/plain": [
       "'$ベットしていた場合には$の配当を得られる。\\n    なお、形のうち - の両は当時丸ノ内線方南町支線用であり 、これの代替にはN形投入により形を両 ( - ) 捻出して対応している。\\n    コンセプトは「時間遊べるおまけ」。\\n    なお系･次車の床面高さは従前通りのmmである。\\n    ゴチ・・ではMCを担当。\\n    ! 番目の魔物 （ 大海恵 ） 年 * 劇場版 金色のガッシュベル!\\n    年に誕生した人物及び著名な動物 。'"
      ]
     },
     "execution_count": 23,
     "metadata": {},
     "output_type": "execute_result"
    }
   ],
   "source": [
    "import re\n",
    "\n",
    "japanese_text = ''.join([c for c in japanese_text if c.isdigit() == False ])\n",
    "japanese_text"
   ]
  },
  {
   "cell_type": "markdown",
   "metadata": {
    "id": "zid78ObFMwS_"
   },
   "source": [
    "Installing some dependencies for japanese"
   ]
  },
  {
   "cell_type": "code",
   "execution_count": null,
   "metadata": {
    "id": "vBN4bFN0gB48"
   },
   "outputs": [],
   "source": [
    "!pip install mecab-python3"
   ]
  },
  {
   "cell_type": "code",
   "execution_count": null,
   "metadata": {
    "id": "NXhJJWhNgS-b"
   },
   "outputs": [],
   "source": [
    "!pip install fugashi[unidic-lite]"
   ]
  },
  {
   "cell_type": "code",
   "execution_count": null,
   "metadata": {
    "id": "Ua13p15FEPIR"
   },
   "outputs": [],
   "source": [
    "!pip install -U pip setuptools wheel\n",
    "!pip install -U spacy\n",
    "!python -m spacy download ja_core_news_sm"
   ]
  },
  {
   "cell_type": "markdown",
   "metadata": {
    "id": "u0mRJHgKGefO"
   },
   "source": [
    "Removing stopwords"
   ]
  },
  {
   "cell_type": "code",
   "execution_count": 24,
   "metadata": {
    "colab": {
     "base_uri": "https://localhost:8080/"
    },
    "id": "apvAwCqTEh94",
    "outputId": "4475d0a5-6fc8-4508-82a6-4f4691905eca"
   },
   "outputs": [
    {
     "name": "stdout",
     "output_type": "stream",
     "text": [
      "154\n",
      "{'なお', 'ここ', 'られ', 'こう', 'ある', 'の', 'ちゃん', 'とき', 'まま', 'たい', 'つ', 'は', 'それぞれ', 'つけ', 'ごと', 'さらに', 'い', 'いう', 'すべて', 'とっ', 'ほど', 'らしい', 'が', 'だっ', 'で', 'もと', 'そこ', 'だけ', 'ほか', 'する', 'さ', 'あまり', 'たら', 'にて', 'も', 'あるいは', 'まで', 'いわ', 'れる', 'でき', 'こと', 'たち', 'くる', 'せ', 'そう', 'よく', 'のち', 'だ', 'やっ', 'おけ', 'ます', 'かつ', 'よう', 'きっかけ', 'ほとんど', 'です', 'および', 'さん', 'ない', 'しまっ', 'いつ', 'なり', 'え', 'よる', 'なかっ', 'いっ', 'うち', 'なし', 'み', 'を', 'ま', 'き', 'べき', 'しまう', 'か', 'たり', 'あ', 'これ', 'た', 'られる', 'はじめ', 'に', 'と', 'いずれ', 'こ', 'ひと', 'へ', 'ば', 'かつて', 'よっ', '一', 'せる', 'ね', 'や', 'とも', 'あっ', 'ただし', 'お', 'て', 'いい', 'もう', 'しか', 'つい', 'なく', 'しよう', 'なら', 'れ', 'る', 'そして', 'もっ', 'かけ', 'おい', 'その', 'つつ', 'おり', 'なる', 'のみ', 'なっ', 'くん', 'よ', 'ところ', 'ご', 'できる', 'ん', 'なけれ', 'ら', 'ぬ', 'より', 'かなり', 'この', 'など', 'いる', 'もの', 'どう', 'せい', 'いく', 'す', 'ほぼ', 'ち', 'から', 'おら', 'すぐ', 'それ', 'な', 'ぶり', 'あれ', 'よれ', 'しかし', 'ず', 'また', 'ながら', 'あり', 'ため', 'し'}\n"
     ]
    }
   ],
   "source": [
    "import spacy\n",
    "\n",
    "nlp = spacy.load('ja_core_news_sm')\n",
    "stop_words_spacy = nlp.Defaults.stop_words\n",
    "print(len(stop_words_spacy))\n",
    "print(stop_words_spacy)"
   ]
  },
  {
   "cell_type": "code",
   "execution_count": 27,
   "metadata": {
    "colab": {
     "base_uri": "https://localhost:8080/"
    },
    "id": "pwrehuGrGbqx",
    "outputId": "a54ed8e6-9e52-49ea-c8c7-bb2e849fc40b"
   },
   "outputs": [
    {
     "name": "stdout",
     "output_type": "stream",
     "text": [
      "[$, ベット, し, て, い, た, 場合, に, は, $, の, 配当, を, 得, られる, 。, \n",
      "    , なお, 、, 形, の, うち, -, の, 両, は, 当時, 丸ノ内, 線, 方南町, 支線, 用, で, あり, 、, これ, の, 代替, に, は, N, 形, 投入, に, より, 形, を, 両, (, -, ), 捻出, し, て, 対応, し, て, いる, 。, \n",
      "    , コンセプト, は, 「, 時間, 遊べる, おまけ, 」, 。, \n",
      "    , なお, 系, ･, 次, 車, の, 床面, 高, さ, は, 従前, 通り, の, mm, で, ある, 。, \n",
      "    , ゴチ, ・, ・, で, は, MC, を, 担当, 。, \n",
      "    , !, 番, 目, の, 魔物, （, 大海, 恵, ）, 年, *, 劇場, 版, 金, 色, の, ガッシュベル, !, \n",
      "    , 年, に, 誕生, し, た, 人物, 及び, 著名, な, 動物, 。]\n"
     ]
    }
   ],
   "source": [
    "tokenized_text_spacy = nlp(japanese_text)\n",
    "tokenized_text_without_stopwords = [i for i in tokenized_text_spacy if not i in stop_words_spacy]\n",
    "print(tokenized_text_without_stopwords)"
   ]
  },
  {
   "cell_type": "markdown",
   "metadata": {
    "id": "mywO8_YjJXXr"
   },
   "source": [
    "Removing punctuation"
   ]
  },
  {
   "cell_type": "code",
   "execution_count": null,
   "metadata": {
    "id": "3g4dBNDwgMHy"
   },
   "outputs": [],
   "source": [
    "import spacy\n",
    "for word in tokenized_text_without_stopwords:\n",
    "    if word.is_punct:\n",
    "        print(word, word.lemma_, word.pos_)"
   ]
  },
  {
   "cell_type": "code",
   "execution_count": null,
   "metadata": {
    "id": "hO2krQx8JZZe"
   },
   "outputs": [],
   "source": [
    "for word in tokenized_text_without_stopwords:\n",
    "    if word.is_punct == False:\n",
    "        print(word, word.lemma_, word.pos_)"
   ]
  },
  {
   "cell_type": "markdown",
   "metadata": {
    "id": "vgozL531Z2Ju"
   },
   "source": [
    "# Assignment\n",
    "\n",
    "To be uploaded here: https://forms.gle/wLsjCWnxK7w8GPvt9\n",
    "\n",
    "Choose samples from 2 languages and preprocess the texts (normalization, tokenization, lematization, etc.).\n",
    "\n",
    "Try to use spacy or find other resources and tools for the chosen languages.\n",
    "\n",
    "Also mention if the language you have choosen needs specific preprocessing.\n",
    "\n",
    "**Please add the resources you used in the doc**: https://docs.google.com/document/d/1c5sqPfgSioGzLZkRv4yWw7DWiiQC96QHw34ZRqcDiSY/edit?usp=sharing for further reference.\n",
    "\n",
    "\n",
    "Questions: If you have chosen a language you are fluent in, how well did the tools work on this language? What problems did you observed (e.g. problems with tokenization, etc.)\n",
    "\n",
    "## Data\n",
    "\n",
    "Data can be downloaded from the resources below.\n"
   ]
  },
  {
   "cell_type": "code",
   "execution_count": 55,
   "metadata": {
    "id": "mxBClzneV5c_"
   },
   "outputs": [],
   "source": [
    "import string\n",
    "import emoji\n",
    "import nltk"
   ]
  },
  {
   "cell_type": "markdown",
   "metadata": {
    "id": "mqOFKNJbvXAF"
   },
   "source": [
    "### French\n",
    "\n"
   ]
  },
  {
   "cell_type": "code",
   "execution_count": 2,
   "metadata": {
    "colab": {
     "base_uri": "https://localhost:8080/"
    },
    "id": "PNZ0qRZ1JlIJ",
    "outputId": "c43514f2-18ef-46ab-a67b-b2d4a49a1f23"
   },
   "outputs": [
    {
     "name": "stdout",
     "output_type": "stream",
     "text": [
      "Collecting emoji\n",
      "  Downloading emoji-1.6.1.tar.gz (170 kB)\n",
      "\u001b[?25l\r",
      "\u001b[K     |██                              | 10 kB 24.2 MB/s eta 0:00:01\r",
      "\u001b[K     |███▉                            | 20 kB 27.7 MB/s eta 0:00:01\r",
      "\u001b[K     |█████▉                          | 30 kB 33.5 MB/s eta 0:00:01\r",
      "\u001b[K     |███████▊                        | 40 kB 21.8 MB/s eta 0:00:01\r",
      "\u001b[K     |█████████▋                      | 51 kB 8.5 MB/s eta 0:00:01\r",
      "\u001b[K     |███████████▋                    | 61 kB 8.9 MB/s eta 0:00:01\r",
      "\u001b[K     |█████████████▌                  | 71 kB 8.3 MB/s eta 0:00:01\r",
      "\u001b[K     |███████████████▍                | 81 kB 9.3 MB/s eta 0:00:01\r",
      "\u001b[K     |█████████████████▍              | 92 kB 7.1 MB/s eta 0:00:01\r",
      "\u001b[K     |███████████████████▎            | 102 kB 7.7 MB/s eta 0:00:01\r",
      "\u001b[K     |█████████████████████▏          | 112 kB 7.7 MB/s eta 0:00:01\r",
      "\u001b[K     |███████████████████████▏        | 122 kB 7.7 MB/s eta 0:00:01\r",
      "\u001b[K     |█████████████████████████       | 133 kB 7.7 MB/s eta 0:00:01\r",
      "\u001b[K     |███████████████████████████     | 143 kB 7.7 MB/s eta 0:00:01\r",
      "\u001b[K     |█████████████████████████████   | 153 kB 7.7 MB/s eta 0:00:01\r",
      "\u001b[K     |██████████████████████████████▉ | 163 kB 7.7 MB/s eta 0:00:01\r",
      "\u001b[K     |████████████████████████████████| 170 kB 7.7 MB/s \n",
      "\u001b[?25hBuilding wheels for collected packages: emoji\n",
      "  Building wheel for emoji (setup.py) ... \u001b[?25l\u001b[?25hdone\n",
      "  Created wheel for emoji: filename=emoji-1.6.1-py3-none-any.whl size=169314 sha256=2e258bb778d23bc0901f80007bc009d15a21c1a390ce8945875ef6d9d73cd5d7\n",
      "  Stored in directory: /root/.cache/pip/wheels/ea/5f/d3/03d313ddb3c2a1a427bb4690f1621eea60fe6f2a30cc95940f\n",
      "Successfully built emoji\n",
      "Installing collected packages: emoji\n",
      "Successfully installed emoji-1.6.1\n",
      "Requirement already satisfied: spacy in /usr/local/lib/python3.7/dist-packages (2.2.4)\n",
      "Collecting spacy\n",
      "  Downloading spacy-3.1.4-cp37-cp37m-manylinux_2_17_x86_64.manylinux2014_x86_64.whl (5.9 MB)\n",
      "\u001b[K     |████████████████████████████████| 5.9 MB 6.8 MB/s \n",
      "\u001b[?25hRequirement already satisfied: typing-extensions<4.0.0.0,>=3.7.4 in /usr/local/lib/python3.7/dist-packages (from spacy) (3.7.4.3)\n",
      "Requirement already satisfied: murmurhash<1.1.0,>=0.28.0 in /usr/local/lib/python3.7/dist-packages (from spacy) (1.0.5)\n",
      "Requirement already satisfied: preshed<3.1.0,>=3.0.2 in /usr/local/lib/python3.7/dist-packages (from spacy) (3.0.5)\n",
      "Requirement already satisfied: jinja2 in /usr/local/lib/python3.7/dist-packages (from spacy) (2.11.3)\n",
      "Requirement already satisfied: packaging>=20.0 in /usr/local/lib/python3.7/dist-packages (from spacy) (21.0)\n",
      "Requirement already satisfied: blis<0.8.0,>=0.4.0 in /usr/local/lib/python3.7/dist-packages (from spacy) (0.4.1)\n",
      "Requirement already satisfied: wasabi<1.1.0,>=0.8.1 in /usr/local/lib/python3.7/dist-packages (from spacy) (0.8.2)\n",
      "Requirement already satisfied: numpy>=1.15.0 in /usr/local/lib/python3.7/dist-packages (from spacy) (1.19.5)\n",
      "Collecting catalogue<2.1.0,>=2.0.6\n",
      "  Downloading catalogue-2.0.6-py3-none-any.whl (17 kB)\n",
      "Collecting pydantic!=1.8,!=1.8.1,<1.9.0,>=1.7.4\n",
      "  Downloading pydantic-1.8.2-cp37-cp37m-manylinux2014_x86_64.whl (10.1 MB)\n",
      "\u001b[K     |████████████████████████████████| 10.1 MB 35.6 MB/s \n",
      "\u001b[?25hRequirement already satisfied: cymem<2.1.0,>=2.0.2 in /usr/local/lib/python3.7/dist-packages (from spacy) (2.0.5)\n",
      "Collecting thinc<8.1.0,>=8.0.12\n",
      "  Downloading thinc-8.0.12-cp37-cp37m-manylinux_2_17_x86_64.manylinux2014_x86_64.whl (628 kB)\n",
      "\u001b[K     |████████████████████████████████| 628 kB 42.1 MB/s \n",
      "\u001b[?25hRequirement already satisfied: tqdm<5.0.0,>=4.38.0 in /usr/local/lib/python3.7/dist-packages (from spacy) (4.62.3)\n",
      "Collecting srsly<3.0.0,>=2.4.1\n",
      "  Downloading srsly-2.4.2-cp37-cp37m-manylinux_2_17_x86_64.manylinux2014_x86_64.whl (451 kB)\n",
      "\u001b[K     |████████████████████████████████| 451 kB 45.1 MB/s \n",
      "\u001b[?25hCollecting typer<0.5.0,>=0.3.0\n",
      "  Downloading typer-0.4.0-py3-none-any.whl (27 kB)\n",
      "Requirement already satisfied: setuptools in /usr/local/lib/python3.7/dist-packages (from spacy) (57.4.0)\n",
      "Collecting spacy-legacy<3.1.0,>=3.0.8\n",
      "  Downloading spacy_legacy-3.0.8-py2.py3-none-any.whl (14 kB)\n",
      "Collecting pathy>=0.3.5\n",
      "  Downloading pathy-0.6.1-py3-none-any.whl (42 kB)\n",
      "\u001b[K     |████████████████████████████████| 42 kB 1.6 MB/s \n",
      "\u001b[?25hRequirement already satisfied: requests<3.0.0,>=2.13.0 in /usr/local/lib/python3.7/dist-packages (from spacy) (2.23.0)\n",
      "Requirement already satisfied: zipp>=0.5 in /usr/local/lib/python3.7/dist-packages (from catalogue<2.1.0,>=2.0.6->spacy) (3.6.0)\n",
      "Requirement already satisfied: pyparsing>=2.0.2 in /usr/local/lib/python3.7/dist-packages (from packaging>=20.0->spacy) (2.4.7)\n",
      "Requirement already satisfied: smart-open<6.0.0,>=5.0.0 in /usr/local/lib/python3.7/dist-packages (from pathy>=0.3.5->spacy) (5.2.1)\n",
      "Requirement already satisfied: chardet<4,>=3.0.2 in /usr/local/lib/python3.7/dist-packages (from requests<3.0.0,>=2.13.0->spacy) (3.0.4)\n",
      "Requirement already satisfied: certifi>=2017.4.17 in /usr/local/lib/python3.7/dist-packages (from requests<3.0.0,>=2.13.0->spacy) (2021.5.30)\n",
      "Requirement already satisfied: idna<3,>=2.5 in /usr/local/lib/python3.7/dist-packages (from requests<3.0.0,>=2.13.0->spacy) (2.10)\n",
      "Requirement already satisfied: urllib3!=1.25.0,!=1.25.1,<1.26,>=1.21.1 in /usr/local/lib/python3.7/dist-packages (from requests<3.0.0,>=2.13.0->spacy) (1.24.3)\n",
      "Requirement already satisfied: click<9.0.0,>=7.1.1 in /usr/local/lib/python3.7/dist-packages (from typer<0.5.0,>=0.3.0->spacy) (7.1.2)\n",
      "Requirement already satisfied: MarkupSafe>=0.23 in /usr/local/lib/python3.7/dist-packages (from jinja2->spacy) (2.0.1)\n",
      "Installing collected packages: catalogue, typer, srsly, pydantic, thinc, spacy-legacy, pathy, spacy\n",
      "  Attempting uninstall: catalogue\n",
      "    Found existing installation: catalogue 1.0.0\n",
      "    Uninstalling catalogue-1.0.0:\n",
      "      Successfully uninstalled catalogue-1.0.0\n",
      "  Attempting uninstall: srsly\n",
      "    Found existing installation: srsly 1.0.5\n",
      "    Uninstalling srsly-1.0.5:\n",
      "      Successfully uninstalled srsly-1.0.5\n",
      "  Attempting uninstall: thinc\n",
      "    Found existing installation: thinc 7.4.0\n",
      "    Uninstalling thinc-7.4.0:\n",
      "      Successfully uninstalled thinc-7.4.0\n",
      "  Attempting uninstall: spacy\n",
      "    Found existing installation: spacy 2.2.4\n",
      "    Uninstalling spacy-2.2.4:\n",
      "      Successfully uninstalled spacy-2.2.4\n",
      "Successfully installed catalogue-2.0.6 pathy-0.6.1 pydantic-1.8.2 spacy-3.1.4 spacy-legacy-3.0.8 srsly-2.4.2 thinc-8.0.12 typer-0.4.0\n",
      "Collecting fr-core-news-sm==3.1.0\n",
      "  Downloading https://github.com/explosion/spacy-models/releases/download/fr_core_news_sm-3.1.0/fr_core_news_sm-3.1.0-py3-none-any.whl (17.1 MB)\n",
      "\u001b[K     |████████████████████████████████| 17.1 MB 81 kB/s \n",
      "\u001b[?25hRequirement already satisfied: spacy<3.2.0,>=3.1.0 in /usr/local/lib/python3.7/dist-packages (from fr-core-news-sm==3.1.0) (3.1.4)\n",
      "Requirement already satisfied: cymem<2.1.0,>=2.0.2 in /usr/local/lib/python3.7/dist-packages (from spacy<3.2.0,>=3.1.0->fr-core-news-sm==3.1.0) (2.0.5)\n",
      "Requirement already satisfied: murmurhash<1.1.0,>=0.28.0 in /usr/local/lib/python3.7/dist-packages (from spacy<3.2.0,>=3.1.0->fr-core-news-sm==3.1.0) (1.0.5)\n",
      "Requirement already satisfied: requests<3.0.0,>=2.13.0 in /usr/local/lib/python3.7/dist-packages (from spacy<3.2.0,>=3.1.0->fr-core-news-sm==3.1.0) (2.23.0)\n",
      "Requirement already satisfied: pydantic!=1.8,!=1.8.1,<1.9.0,>=1.7.4 in /usr/local/lib/python3.7/dist-packages (from spacy<3.2.0,>=3.1.0->fr-core-news-sm==3.1.0) (1.8.2)\n",
      "Requirement already satisfied: thinc<8.1.0,>=8.0.12 in /usr/local/lib/python3.7/dist-packages (from spacy<3.2.0,>=3.1.0->fr-core-news-sm==3.1.0) (8.0.12)\n",
      "Requirement already satisfied: typer<0.5.0,>=0.3.0 in /usr/local/lib/python3.7/dist-packages (from spacy<3.2.0,>=3.1.0->fr-core-news-sm==3.1.0) (0.4.0)\n",
      "Requirement already satisfied: setuptools in /usr/local/lib/python3.7/dist-packages (from spacy<3.2.0,>=3.1.0->fr-core-news-sm==3.1.0) (57.4.0)\n",
      "Requirement already satisfied: wasabi<1.1.0,>=0.8.1 in /usr/local/lib/python3.7/dist-packages (from spacy<3.2.0,>=3.1.0->fr-core-news-sm==3.1.0) (0.8.2)\n",
      "Requirement already satisfied: tqdm<5.0.0,>=4.38.0 in /usr/local/lib/python3.7/dist-packages (from spacy<3.2.0,>=3.1.0->fr-core-news-sm==3.1.0) (4.62.3)\n",
      "Requirement already satisfied: jinja2 in /usr/local/lib/python3.7/dist-packages (from spacy<3.2.0,>=3.1.0->fr-core-news-sm==3.1.0) (2.11.3)\n",
      "Requirement already satisfied: blis<0.8.0,>=0.4.0 in /usr/local/lib/python3.7/dist-packages (from spacy<3.2.0,>=3.1.0->fr-core-news-sm==3.1.0) (0.4.1)\n",
      "Requirement already satisfied: packaging>=20.0 in /usr/local/lib/python3.7/dist-packages (from spacy<3.2.0,>=3.1.0->fr-core-news-sm==3.1.0) (21.0)\n",
      "Requirement already satisfied: numpy>=1.15.0 in /usr/local/lib/python3.7/dist-packages (from spacy<3.2.0,>=3.1.0->fr-core-news-sm==3.1.0) (1.19.5)\n",
      "Requirement already satisfied: preshed<3.1.0,>=3.0.2 in /usr/local/lib/python3.7/dist-packages (from spacy<3.2.0,>=3.1.0->fr-core-news-sm==3.1.0) (3.0.5)\n",
      "Requirement already satisfied: spacy-legacy<3.1.0,>=3.0.8 in /usr/local/lib/python3.7/dist-packages (from spacy<3.2.0,>=3.1.0->fr-core-news-sm==3.1.0) (3.0.8)\n",
      "Requirement already satisfied: pathy>=0.3.5 in /usr/local/lib/python3.7/dist-packages (from spacy<3.2.0,>=3.1.0->fr-core-news-sm==3.1.0) (0.6.1)\n",
      "Requirement already satisfied: typing-extensions<4.0.0.0,>=3.7.4 in /usr/local/lib/python3.7/dist-packages (from spacy<3.2.0,>=3.1.0->fr-core-news-sm==3.1.0) (3.7.4.3)\n",
      "Requirement already satisfied: srsly<3.0.0,>=2.4.1 in /usr/local/lib/python3.7/dist-packages (from spacy<3.2.0,>=3.1.0->fr-core-news-sm==3.1.0) (2.4.2)\n",
      "Requirement already satisfied: catalogue<2.1.0,>=2.0.6 in /usr/local/lib/python3.7/dist-packages (from spacy<3.2.0,>=3.1.0->fr-core-news-sm==3.1.0) (2.0.6)\n",
      "Requirement already satisfied: zipp>=0.5 in /usr/local/lib/python3.7/dist-packages (from catalogue<2.1.0,>=2.0.6->spacy<3.2.0,>=3.1.0->fr-core-news-sm==3.1.0) (3.6.0)\n",
      "Requirement already satisfied: pyparsing>=2.0.2 in /usr/local/lib/python3.7/dist-packages (from packaging>=20.0->spacy<3.2.0,>=3.1.0->fr-core-news-sm==3.1.0) (2.4.7)\n",
      "Requirement already satisfied: smart-open<6.0.0,>=5.0.0 in /usr/local/lib/python3.7/dist-packages (from pathy>=0.3.5->spacy<3.2.0,>=3.1.0->fr-core-news-sm==3.1.0) (5.2.1)\n",
      "Requirement already satisfied: idna<3,>=2.5 in /usr/local/lib/python3.7/dist-packages (from requests<3.0.0,>=2.13.0->spacy<3.2.0,>=3.1.0->fr-core-news-sm==3.1.0) (2.10)\n",
      "Requirement already satisfied: urllib3!=1.25.0,!=1.25.1,<1.26,>=1.21.1 in /usr/local/lib/python3.7/dist-packages (from requests<3.0.0,>=2.13.0->spacy<3.2.0,>=3.1.0->fr-core-news-sm==3.1.0) (1.24.3)\n",
      "Requirement already satisfied: chardet<4,>=3.0.2 in /usr/local/lib/python3.7/dist-packages (from requests<3.0.0,>=2.13.0->spacy<3.2.0,>=3.1.0->fr-core-news-sm==3.1.0) (3.0.4)\n",
      "Requirement already satisfied: certifi>=2017.4.17 in /usr/local/lib/python3.7/dist-packages (from requests<3.0.0,>=2.13.0->spacy<3.2.0,>=3.1.0->fr-core-news-sm==3.1.0) (2021.5.30)\n",
      "Requirement already satisfied: click<9.0.0,>=7.1.1 in /usr/local/lib/python3.7/dist-packages (from typer<0.5.0,>=0.3.0->spacy<3.2.0,>=3.1.0->fr-core-news-sm==3.1.0) (7.1.2)\n",
      "Requirement already satisfied: MarkupSafe>=0.23 in /usr/local/lib/python3.7/dist-packages (from jinja2->spacy<3.2.0,>=3.1.0->fr-core-news-sm==3.1.0) (2.0.1)\n",
      "Installing collected packages: fr-core-news-sm\n",
      "Successfully installed fr-core-news-sm-3.1.0\n",
      "\u001b[38;5;2m✔ Download and installation successful\u001b[0m\n",
      "You can now load the package via spacy.load('fr_core_news_sm')\n",
      "[nltk_data] Downloading package punkt to /root/nltk_data...\n",
      "[nltk_data]   Unzipping tokenizers/punkt.zip.\n",
      "[nltk_data] Downloading package stopwords to /root/nltk_data...\n",
      "[nltk_data]   Unzipping corpora/stopwords.zip.\n"
     ]
    },
    {
     "data": {
      "text/plain": [
       "True"
      ]
     },
     "execution_count": 2,
     "metadata": {},
     "output_type": "execute_result"
    }
   ],
   "source": [
    "!pip install emoji\n",
    "!pip install -U spacy\n",
    "!python -m spacy download fr_core_news_sm\n",
    "!pip install git+https://github.com/ClaudeCoulombe/FrenchLefffLemmatizer.git &> /dev/null"
   ]
  },
  {
   "cell_type": "code",
   "execution_count": null,
   "metadata": {
    "id": "WxbAUerHV7Gd"
   },
   "outputs": [],
   "source": [
    "nltk.download('punkt')\n",
    "nltk.download('stopwords')"
   ]
  },
  {
   "cell_type": "code",
   "execution_count": 3,
   "metadata": {
    "id": "C7le3wzbvCda"
   },
   "outputs": [],
   "source": [
    "from nltk.corpus import stopwords\n",
    "\n",
    "from nltk.stem.snowball import FrenchStemmer\n",
    "stemmer = FrenchStemmer()\n",
    "\n",
    "import spacy\n",
    "nlp = spacy.load('fr_core_news_sm')\n",
    "\n",
    "from french_lefff_lemmatizer.french_lefff_lemmatizer import FrenchLefffLemmatizer\n",
    "lemmatizer = FrenchLefffLemmatizer()"
   ]
  },
  {
   "cell_type": "code",
   "execution_count": 4,
   "metadata": {
    "id": "oSxUYE-JvECu"
   },
   "outputs": [],
   "source": [
    "def standardPreprocess(text):\n",
    "  # lowercase text, remove mentions, hashtags, links\n",
    "  text = ' '.join([word.lower() for word in text.split() \n",
    "                  if word[0] not in ['@', '#'] and word[:4] != \"http\"])\n",
    "\n",
    "  # remove newline characters, digits, punctuation and emoticons\n",
    "  text = ' '.join([word for word in nltk.word_tokenize(text)\n",
    "                   if not word.isdigit() \n",
    "                   and word[0] not in string.punctuation])\n",
    "\n",
    "  # remove emojis\n",
    "  emoji.get_emoji_regexp().sub(u'', text)\n",
    "\n",
    "  return text"
   ]
  },
  {
   "cell_type": "code",
   "execution_count": 5,
   "metadata": {
    "id": "cT71A-yAvNmQ"
   },
   "outputs": [],
   "source": [
    "def preprocessFrench(sentences):\n",
    "  for text in sentences:\n",
    "    text = standardPreprocess(text)\n",
    "\n",
    "    # remove stopwords\n",
    "    stop_words_nltk = set(stopwords.words('french'))\n",
    "    text = ' '.join([word for word in nltk.word_tokenize(text) if word not in stop_words_nltk])\n",
    "\n",
    "    # Nltk French Stemmer\n",
    "    print(' '.join([stemmer.stem(word) for word in nltk.word_tokenize(text)]))\n",
    "\n",
    "    # Spacy lemmatizer\n",
    "    print(' '.join([word.lemma_ for word in nlp(text)]))\n",
    "\n",
    "    # French LEFFF Lemmatizer\n",
    "    print(' '.join([lemmatizer.lemmatize(word) for word in nltk.word_tokenize(text)]))"
   ]
  },
  {
   "cell_type": "code",
   "execution_count": 6,
   "metadata": {
    "colab": {
     "base_uri": "https://localhost:8080/"
    },
    "id": "cNztWq1cvRtZ",
    "outputId": "0b2290ec-eefa-4bf3-c5d2-eaf8a436d4df"
   },
   "outputs": [
    {
     "name": "stdout",
     "output_type": "stream",
     "text": [
      "voudr non animal yeux dor couvr\n",
      "vouloir non animal yeux dors couvre\n",
      "voudrais non animal yeux dors couvre\n",
      "poet poes\n",
      "poète poési\n",
      "poète poésie\n"
     ]
    }
   ],
   "source": [
    "preprocessFrench([\"Voudrais non animaux yeux dors couvre.\",\n",
    "                  \"Je serai poète et toi poésie\"])"
   ]
  },
  {
   "cell_type": "markdown",
   "metadata": {
    "id": "G4RK0dhqRsRb"
   },
   "source": [
    "### Japanese"
   ]
  },
  {
   "cell_type": "code",
   "execution_count": 69,
   "metadata": {
    "colab": {
     "base_uri": "https://localhost:8080/"
    },
    "id": "iYNzqAlYUIm2",
    "outputId": "6d763c9f-1b44-476f-9a09-dc9eef9a60d5"
   },
   "outputs": [
    {
     "name": "stdout",
     "output_type": "stream",
     "text": [
      "Requirement already satisfied: mecab-python3 in /usr/local/lib/python3.7/dist-packages (1.0.4)\n",
      "\u001b[33mWARNING: Running pip as the 'root' user can result in broken permissions and conflicting behaviour with the system package manager. It is recommended to use a virtual environment instead: https://pip.pypa.io/warnings/venv\u001b[0m\n",
      "Requirement already satisfied: fugashi[unidic-lite] in /usr/local/lib/python3.7/dist-packages (1.1.1)\n",
      "Requirement already satisfied: unidic-lite in /usr/local/lib/python3.7/dist-packages (from fugashi[unidic-lite]) (1.0.8)\n",
      "\u001b[33mWARNING: Running pip as the 'root' user can result in broken permissions and conflicting behaviour with the system package manager. It is recommended to use a virtual environment instead: https://pip.pypa.io/warnings/venv\u001b[0m\n",
      "Requirement already satisfied: pip in /usr/local/lib/python3.7/dist-packages (21.3.1)\n",
      "Requirement already satisfied: setuptools in /usr/local/lib/python3.7/dist-packages (58.4.0)\n",
      "Requirement already satisfied: wheel in /usr/local/lib/python3.7/dist-packages (0.37.0)\n",
      "\u001b[33mWARNING: Running pip as the 'root' user can result in broken permissions and conflicting behaviour with the system package manager. It is recommended to use a virtual environment instead: https://pip.pypa.io/warnings/venv\u001b[0m\n",
      "Requirement already satisfied: spacy in /usr/local/lib/python3.7/dist-packages (3.1.4)\n",
      "Requirement already satisfied: jinja2 in /usr/local/lib/python3.7/dist-packages (from spacy) (2.11.3)\n",
      "Requirement already satisfied: typer<0.5.0,>=0.3.0 in /usr/local/lib/python3.7/dist-packages (from spacy) (0.4.0)\n",
      "Requirement already satisfied: packaging>=20.0 in /usr/local/lib/python3.7/dist-packages (from spacy) (21.0)\n",
      "Requirement already satisfied: tqdm<5.0.0,>=4.38.0 in /usr/local/lib/python3.7/dist-packages (from spacy) (4.62.3)\n",
      "Requirement already satisfied: srsly<3.0.0,>=2.4.1 in /usr/local/lib/python3.7/dist-packages (from spacy) (2.4.2)\n",
      "Requirement already satisfied: spacy-legacy<3.1.0,>=3.0.8 in /usr/local/lib/python3.7/dist-packages (from spacy) (3.0.8)\n",
      "Requirement already satisfied: catalogue<2.1.0,>=2.0.6 in /usr/local/lib/python3.7/dist-packages (from spacy) (2.0.6)\n",
      "Requirement already satisfied: setuptools in /usr/local/lib/python3.7/dist-packages (from spacy) (58.4.0)\n",
      "Requirement already satisfied: blis<0.8.0,>=0.4.0 in /usr/local/lib/python3.7/dist-packages (from spacy) (0.4.1)\n",
      "Requirement already satisfied: murmurhash<1.1.0,>=0.28.0 in /usr/local/lib/python3.7/dist-packages (from spacy) (1.0.5)\n",
      "Requirement already satisfied: typing-extensions<4.0.0.0,>=3.7.4 in /usr/local/lib/python3.7/dist-packages (from spacy) (3.7.4.3)\n",
      "Requirement already satisfied: pydantic!=1.8,!=1.8.1,<1.9.0,>=1.7.4 in /usr/local/lib/python3.7/dist-packages (from spacy) (1.8.2)\n",
      "Requirement already satisfied: numpy>=1.15.0 in /usr/local/lib/python3.7/dist-packages (from spacy) (1.19.5)\n",
      "Requirement already satisfied: wasabi<1.1.0,>=0.8.1 in /usr/local/lib/python3.7/dist-packages (from spacy) (0.8.2)\n",
      "Requirement already satisfied: requests<3.0.0,>=2.13.0 in /usr/local/lib/python3.7/dist-packages (from spacy) (2.23.0)\n",
      "Requirement already satisfied: thinc<8.1.0,>=8.0.12 in /usr/local/lib/python3.7/dist-packages (from spacy) (8.0.12)\n",
      "Requirement already satisfied: preshed<3.1.0,>=3.0.2 in /usr/local/lib/python3.7/dist-packages (from spacy) (3.0.5)\n",
      "Requirement already satisfied: pathy>=0.3.5 in /usr/local/lib/python3.7/dist-packages (from spacy) (0.6.1)\n",
      "Requirement already satisfied: cymem<2.1.0,>=2.0.2 in /usr/local/lib/python3.7/dist-packages (from spacy) (2.0.5)\n",
      "Requirement already satisfied: zipp>=0.5 in /usr/local/lib/python3.7/dist-packages (from catalogue<2.1.0,>=2.0.6->spacy) (3.6.0)\n",
      "Requirement already satisfied: pyparsing>=2.0.2 in /usr/local/lib/python3.7/dist-packages (from packaging>=20.0->spacy) (2.4.7)\n",
      "Requirement already satisfied: smart-open<6.0.0,>=5.0.0 in /usr/local/lib/python3.7/dist-packages (from pathy>=0.3.5->spacy) (5.2.1)\n",
      "Requirement already satisfied: idna<3,>=2.5 in /usr/local/lib/python3.7/dist-packages (from requests<3.0.0,>=2.13.0->spacy) (2.10)\n",
      "Requirement already satisfied: chardet<4,>=3.0.2 in /usr/local/lib/python3.7/dist-packages (from requests<3.0.0,>=2.13.0->spacy) (3.0.4)\n",
      "Requirement already satisfied: certifi>=2017.4.17 in /usr/local/lib/python3.7/dist-packages (from requests<3.0.0,>=2.13.0->spacy) (2021.5.30)\n",
      "Requirement already satisfied: urllib3!=1.25.0,!=1.25.1,<1.26,>=1.21.1 in /usr/local/lib/python3.7/dist-packages (from requests<3.0.0,>=2.13.0->spacy) (1.24.3)\n",
      "Requirement already satisfied: click<9.0.0,>=7.1.1 in /usr/local/lib/python3.7/dist-packages (from typer<0.5.0,>=0.3.0->spacy) (7.1.2)\n",
      "Requirement already satisfied: MarkupSafe>=0.23 in /usr/local/lib/python3.7/dist-packages (from jinja2->spacy) (2.0.1)\n",
      "\u001b[33mWARNING: Running pip as the 'root' user can result in broken permissions and conflicting behaviour with the system package manager. It is recommended to use a virtual environment instead: https://pip.pypa.io/warnings/venv\u001b[0m\n",
      "Collecting ja-core-news-sm==3.1.0\n",
      "  Downloading https://github.com/explosion/spacy-models/releases/download/ja_core_news_sm-3.1.0/ja_core_news_sm-3.1.0-py3-none-any.whl (12.9 MB)\n",
      "     |████████████████████████████████| 12.9 MB 5.5 MB/s            \n",
      "\u001b[?25hRequirement already satisfied: sudachipy>=0.4.9 in /usr/local/lib/python3.7/dist-packages (from ja-core-news-sm==3.1.0) (0.5.4)\n",
      "Requirement already satisfied: spacy<3.2.0,>=3.1.0 in /usr/local/lib/python3.7/dist-packages (from ja-core-news-sm==3.1.0) (3.1.4)\n",
      "Requirement already satisfied: sudachidict-core>=20200330 in /usr/local/lib/python3.7/dist-packages (from ja-core-news-sm==3.1.0) (20210802)\n",
      "Requirement already satisfied: pathy>=0.3.5 in /usr/local/lib/python3.7/dist-packages (from spacy<3.2.0,>=3.1.0->ja-core-news-sm==3.1.0) (0.6.1)\n",
      "Requirement already satisfied: requests<3.0.0,>=2.13.0 in /usr/local/lib/python3.7/dist-packages (from spacy<3.2.0,>=3.1.0->ja-core-news-sm==3.1.0) (2.23.0)\n",
      "Requirement already satisfied: thinc<8.1.0,>=8.0.12 in /usr/local/lib/python3.7/dist-packages (from spacy<3.2.0,>=3.1.0->ja-core-news-sm==3.1.0) (8.0.12)\n",
      "Requirement already satisfied: srsly<3.0.0,>=2.4.1 in /usr/local/lib/python3.7/dist-packages (from spacy<3.2.0,>=3.1.0->ja-core-news-sm==3.1.0) (2.4.2)\n",
      "Requirement already satisfied: pydantic!=1.8,!=1.8.1,<1.9.0,>=1.7.4 in /usr/local/lib/python3.7/dist-packages (from spacy<3.2.0,>=3.1.0->ja-core-news-sm==3.1.0) (1.8.2)\n",
      "Requirement already satisfied: typer<0.5.0,>=0.3.0 in /usr/local/lib/python3.7/dist-packages (from spacy<3.2.0,>=3.1.0->ja-core-news-sm==3.1.0) (0.4.0)\n",
      "Requirement already satisfied: preshed<3.1.0,>=3.0.2 in /usr/local/lib/python3.7/dist-packages (from spacy<3.2.0,>=3.1.0->ja-core-news-sm==3.1.0) (3.0.5)\n",
      "Requirement already satisfied: typing-extensions<4.0.0.0,>=3.7.4 in /usr/local/lib/python3.7/dist-packages (from spacy<3.2.0,>=3.1.0->ja-core-news-sm==3.1.0) (3.7.4.3)\n",
      "Requirement already satisfied: cymem<2.1.0,>=2.0.2 in /usr/local/lib/python3.7/dist-packages (from spacy<3.2.0,>=3.1.0->ja-core-news-sm==3.1.0) (2.0.5)\n",
      "Requirement already satisfied: tqdm<5.0.0,>=4.38.0 in /usr/local/lib/python3.7/dist-packages (from spacy<3.2.0,>=3.1.0->ja-core-news-sm==3.1.0) (4.62.3)\n",
      "Requirement already satisfied: wasabi<1.1.0,>=0.8.1 in /usr/local/lib/python3.7/dist-packages (from spacy<3.2.0,>=3.1.0->ja-core-news-sm==3.1.0) (0.8.2)\n",
      "Requirement already satisfied: murmurhash<1.1.0,>=0.28.0 in /usr/local/lib/python3.7/dist-packages (from spacy<3.2.0,>=3.1.0->ja-core-news-sm==3.1.0) (1.0.5)\n",
      "Requirement already satisfied: blis<0.8.0,>=0.4.0 in /usr/local/lib/python3.7/dist-packages (from spacy<3.2.0,>=3.1.0->ja-core-news-sm==3.1.0) (0.4.1)\n",
      "Requirement already satisfied: jinja2 in /usr/local/lib/python3.7/dist-packages (from spacy<3.2.0,>=3.1.0->ja-core-news-sm==3.1.0) (2.11.3)\n",
      "Requirement already satisfied: packaging>=20.0 in /usr/local/lib/python3.7/dist-packages (from spacy<3.2.0,>=3.1.0->ja-core-news-sm==3.1.0) (21.0)\n",
      "Requirement already satisfied: spacy-legacy<3.1.0,>=3.0.8 in /usr/local/lib/python3.7/dist-packages (from spacy<3.2.0,>=3.1.0->ja-core-news-sm==3.1.0) (3.0.8)\n",
      "Requirement already satisfied: numpy>=1.15.0 in /usr/local/lib/python3.7/dist-packages (from spacy<3.2.0,>=3.1.0->ja-core-news-sm==3.1.0) (1.19.5)\n",
      "Requirement already satisfied: setuptools in /usr/local/lib/python3.7/dist-packages (from spacy<3.2.0,>=3.1.0->ja-core-news-sm==3.1.0) (58.4.0)\n",
      "Requirement already satisfied: catalogue<2.1.0,>=2.0.6 in /usr/local/lib/python3.7/dist-packages (from spacy<3.2.0,>=3.1.0->ja-core-news-sm==3.1.0) (2.0.6)\n",
      "Requirement already satisfied: sortedcontainers~=2.1.0 in /usr/local/lib/python3.7/dist-packages (from sudachipy>=0.4.9->ja-core-news-sm==3.1.0) (2.1.0)\n",
      "Requirement already satisfied: dartsclone~=0.9.0 in /usr/local/lib/python3.7/dist-packages (from sudachipy>=0.4.9->ja-core-news-sm==3.1.0) (0.9.0)\n",
      "Requirement already satisfied: zipp>=0.5 in /usr/local/lib/python3.7/dist-packages (from catalogue<2.1.0,>=2.0.6->spacy<3.2.0,>=3.1.0->ja-core-news-sm==3.1.0) (3.6.0)\n",
      "Requirement already satisfied: Cython in /usr/local/lib/python3.7/dist-packages (from dartsclone~=0.9.0->sudachipy>=0.4.9->ja-core-news-sm==3.1.0) (0.29.24)\n",
      "Requirement already satisfied: pyparsing>=2.0.2 in /usr/local/lib/python3.7/dist-packages (from packaging>=20.0->spacy<3.2.0,>=3.1.0->ja-core-news-sm==3.1.0) (2.4.7)\n",
      "Requirement already satisfied: smart-open<6.0.0,>=5.0.0 in /usr/local/lib/python3.7/dist-packages (from pathy>=0.3.5->spacy<3.2.0,>=3.1.0->ja-core-news-sm==3.1.0) (5.2.1)\n",
      "Requirement already satisfied: certifi>=2017.4.17 in /usr/local/lib/python3.7/dist-packages (from requests<3.0.0,>=2.13.0->spacy<3.2.0,>=3.1.0->ja-core-news-sm==3.1.0) (2021.5.30)\n",
      "Requirement already satisfied: idna<3,>=2.5 in /usr/local/lib/python3.7/dist-packages (from requests<3.0.0,>=2.13.0->spacy<3.2.0,>=3.1.0->ja-core-news-sm==3.1.0) (2.10)\n",
      "Requirement already satisfied: chardet<4,>=3.0.2 in /usr/local/lib/python3.7/dist-packages (from requests<3.0.0,>=2.13.0->spacy<3.2.0,>=3.1.0->ja-core-news-sm==3.1.0) (3.0.4)\n",
      "Requirement already satisfied: urllib3!=1.25.0,!=1.25.1,<1.26,>=1.21.1 in /usr/local/lib/python3.7/dist-packages (from requests<3.0.0,>=2.13.0->spacy<3.2.0,>=3.1.0->ja-core-news-sm==3.1.0) (1.24.3)\n",
      "Requirement already satisfied: click<9.0.0,>=7.1.1 in /usr/local/lib/python3.7/dist-packages (from typer<0.5.0,>=0.3.0->spacy<3.2.0,>=3.1.0->ja-core-news-sm==3.1.0) (7.1.2)\n",
      "Requirement already satisfied: MarkupSafe>=0.23 in /usr/local/lib/python3.7/dist-packages (from jinja2->spacy<3.2.0,>=3.1.0->ja-core-news-sm==3.1.0) (2.0.1)\n",
      "\u001b[33mWARNING: Running pip as the 'root' user can result in broken permissions and conflicting behaviour with the system package manager. It is recommended to use a virtual environment instead: https://pip.pypa.io/warnings/venv\u001b[0m\n",
      "\u001b[38;5;2m✔ Download and installation successful\u001b[0m\n",
      "You can now load the package via spacy.load('ja_core_news_sm')\n",
      "Requirement already satisfied: sudachipy in /usr/local/lib/python3.7/dist-packages (0.5.4)\n",
      "Requirement already satisfied: sudachidict_core in /usr/local/lib/python3.7/dist-packages (20210802)\n",
      "Requirement already satisfied: dartsclone~=0.9.0 in /usr/local/lib/python3.7/dist-packages (from sudachipy) (0.9.0)\n",
      "Requirement already satisfied: sortedcontainers~=2.1.0 in /usr/local/lib/python3.7/dist-packages (from sudachipy) (2.1.0)\n",
      "Requirement already satisfied: Cython in /usr/local/lib/python3.7/dist-packages (from dartsclone~=0.9.0->sudachipy) (0.29.24)\n",
      "\u001b[33mWARNING: Running pip as the 'root' user can result in broken permissions and conflicting behaviour with the system package manager. It is recommended to use a virtual environment instead: https://pip.pypa.io/warnings/venv\u001b[0m\n"
     ]
    }
   ],
   "source": [
    "!pip install mecab-python3\n",
    "!pip install fugashi[unidic-lite]\n",
    "!pip install -U pip setuptools wheel\n",
    "!pip install -U spacy\n",
    "!python -m spacy download ja_core_news_sm\n",
    "!pip install sudachipy sudachidict_core"
   ]
  },
  {
   "cell_type": "code",
   "execution_count": 73,
   "metadata": {
    "id": "Tlveg3g7UlGH"
   },
   "outputs": [],
   "source": [
    "import spacy\n",
    "nlpj = spacy.load('ja_core_news_sm')\n",
    "\n",
    "from fugashi import Tagger\n",
    "tagger = Tagger('-Owakati')\n",
    "\n",
    "from sudachipy import tokenizer\n",
    "from sudachipy import dictionary\n",
    "\n",
    "tokenizer_obj = dictionary.Dictionary().create()\n",
    "mode = tokenizer.Tokenizer.SplitMode.A"
   ]
  },
  {
   "cell_type": "code",
   "execution_count": 58,
   "metadata": {
    "id": "PQO98P_rSeQX"
   },
   "outputs": [],
   "source": [
    "def standardPreprocessJ(text):\n",
    "  # remove newline characters\n",
    "  text = ' '.join(text.split())\n",
    "\n",
    "  # remove digits, punctuation and emoticons\n",
    "  text = ''.join([word for word in text\n",
    "                  if not word.isdigit() \n",
    "                  and word[0] not in string.punctuation])\n",
    "\n",
    "  # remove emojis\n",
    "  emoji.get_emoji_regexp().sub(u'', text)\n",
    "\n",
    "  return text"
   ]
  },
  {
   "cell_type": "code",
   "execution_count": 80,
   "metadata": {
    "id": "HH-iNy-NTf4s"
   },
   "outputs": [],
   "source": [
    "def preprocessJapanese(sentences):\n",
    "  for text in sentences:\n",
    "    text = standardPreprocessJ(text)\n",
    "\n",
    "    # remove stopwords and japanese punctuation\n",
    "    stop_words_spacy = nlpj.Defaults.stop_words\n",
    "    text = ' '.join([str(word) for word in nlpj(text) if word not in stop_words_spacy and not word.is_punct])\n",
    "\n",
    "    # Fugashi\n",
    "    tagger.parse(text)\n",
    "    print(' '.join([word.feature.lemma for word in tagger(text) if word.feature.lemma]))\n",
    "\n",
    "    # Sudachipy\n",
    "    print(''.join([m.normalized_form() for m in tokenizer_obj.tokenize(text, mode)]))"
   ]
  },
  {
   "cell_type": "code",
   "execution_count": 81,
   "metadata": {
    "colab": {
     "base_uri": "https://localhost:8080/"
    },
    "id": "Bhz-tDCARrRx",
    "outputId": "c863c5db-d6cf-42a4-8e64-3dd2b027afac"
   },
   "outputs": [
    {
     "name": "stdout",
     "output_type": "stream",
     "text": [
      "ベット 為る て 居る た 場合 に は の 配当 を 得る られる\n",
      "ベット 為る て い た 場合 に は の 配当 を 得 られる\n",
      "猶 形 の 内 の 両 は 当時 マルノウチ 線 方 ミナミマチ 支線 用 だ 有る 此れ の 代替 に は 形 投入 に 因る 形 を 両 捻出 為る て 対応 為る て 居る\n",
      "猶 形 の 内   の 両 は 当時 丸ノ内 線 方南町 支線 用 で 有り 此れ の 代替 に は N 形 投入 に より 形 を 両     捻出 為る て 対応 為る て 居る\n",
      "コンセプト-concept は 時間 遊ぶ 御負け\n",
      "コンセプト は 時間 遊ぶ 御負け ◕‿◕。\n",
      "猶 系 次 車 の 床面 高い さ は 従前 通り の だ 有る\n",
      "猶 系 次 車 の 床面 高 さ は 従前 通り の mm で 或る\n",
      "ごち で は を 担当\n",
      "ごち で は MC を 担当\n",
      "番 目 の 魔物 オオウミ メグミ ≧ ▽ ≦ 年 劇場 版 金 色 の ガッシュ-gouache ベル-bell\n",
      "  番 目 の 魔物 大海 恵 o ≧ ▽ ≦ o 年   劇場 版 金 色 の ガッシュベル\n",
      "年 に 誕生 為る た 人物 及び 著名 だ 動物\n",
      "年 に 誕生 為る た 人物 及び 著名 な 動物\n"
     ]
    }
   ],
   "source": [
    "preprocessJapanese([\"$100ベットしていた場合には$100の配当を得られる。\",\n",
    "    \"なお、100形のうち101 - 110の10両は当時丸ノ内線方南町支線用であり 、これの代替には1500N形投入により2000形を10両 (2031 - 2040) 捻出して対応している。\",\n",
    "    \"コンセプトは「100時間遊べるおまけ」(◕‿◕)。\",\n",
    "    \"なお100系1･2次車の床面高さは従前通りの1150mmである。\",\n",
    "    \"ゴチ10・12・15ではMCを担当。\",\n",
    "    \"! 101番目の魔物 （ 大海恵 ）2005年 * 劇場版 金色のガッシュベル!\",\n",
    "    \"1088年に誕生した人物及び著名な動物 。\"])"
   ]
  },
  {
   "cell_type": "markdown",
   "metadata": {
    "id": "PNPLCHObe0O5"
   },
   "source": [
    "Resources:\n",
    "\n",
    "* [An Crúbadán - Corpus Building for Minority Languages - 18721 languages](http://crubadan.org/)\n",
    "* [Leipzig Corpora Collection / Deutscher Wortschatz 291 languages](https://wortschatz.uni-leipzig.de/en/download)\n",
    "* [Europarl](https://www.statmt.org/europarl/)\n",
    "\n",
    "Tools:\n",
    "* [Chinese text segmentation](https://github.com/fxsjy/jieba)\n",
    "\n",
    "Further reading:\n",
    "\n",
    "* [A Survey of Approaches to Diacritic Restoration](https://www.researchgate.net/profile/Franklin-Asahiah/publication/328419851_A_Survey_of_Approaches_to_Diacritic_Restoration/links/5bcd8b67458515f7d9d02f3d/A-Survey-of-Approaches-to-Diacritic-Restoration.pdf)\n",
    "* [Preprocessing Arabic text on social media](https://www.sciencedirect.com/science/article/pii/S2405844021002966)\n",
    "* [Semantic-Based Segmentation of Arabic Texts](https://scialert.net/fulltext/?doi=itj.2008.1009.1015)\n",
    "* [The case of Croatian](https://medium.com/krakensystems-blog/text-processing-problems-with-non-english-languages-82822d0945dd)\n",
    "\n",
    "\n",
    "\n",
    "\n",
    "\n",
    "\n"
   ]
  }
 ],
 "metadata": {
  "colab": {
   "collapsed_sections": [],
   "name": "Lab2.ipynb",
   "provenance": []
  },
  "kernelspec": {
   "display_name": "Python 3",
   "language": "python",
   "name": "python3"
  },
  "language_info": {
   "codemirror_mode": {
    "name": "ipython",
    "version": 3
   },
   "file_extension": ".py",
   "mimetype": "text/x-python",
   "name": "python",
   "nbconvert_exporter": "python",
   "pygments_lexer": "ipython3",
   "version": "3.7.6"
  }
 },
 "nbformat": 4,
 "nbformat_minor": 1
}
