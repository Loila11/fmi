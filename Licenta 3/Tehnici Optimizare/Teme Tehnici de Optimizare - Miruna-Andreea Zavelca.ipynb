{
 "cells": [
  {
   "cell_type": "markdown",
   "metadata": {},
   "source": [
    "# TEMA 1\n",
    "\n",
    " De dat exemple și de reprezentat grafic cele 4 cazuri de compatibilitate în care se poate afla un program liniar"
   ]
  },
  {
   "cell_type": "code",
   "execution_count": 1,
   "metadata": {},
   "outputs": [],
   "source": [
    "import numpy as np\n",
    "import matplotlib.pyplot as plt"
   ]
  },
  {
   "cell_type": "code",
   "execution_count": 2,
   "metadata": {},
   "outputs": [],
   "source": [
    "def adaugaLaGrafic(x, y1, y2):\n",
    "    plt.plot(x, y1)\n",
    "    plt.fill_between(x, y1, y2, alpha=0.2)"
   ]
  },
  {
   "cell_type": "markdown",
   "metadata": {},
   "source": [
    "## Program liniar compatibil cu optim finit cu solutie optima unica:\n",
    "\n",
    "    Consider urmatorul sistem:\n",
    "        max x + y\n",
    "        x - y <= 2\n",
    "        2x + y <= 1\n",
    "\n",
    "    Calculez coordonatele punctului de optim:\n",
    "        y = x - 2\n",
    "        y = 1 - 2 * x\n",
    "            => x - 2 = 1 - 2 * x\n",
    "            => 3 * x = 3\n",
    "            => x = 1\n",
    "                => y = -1"
   ]
  },
  {
   "cell_type": "code",
   "execution_count": 3,
   "metadata": {},
   "outputs": [
    {
     "data": {
      "image/png": "[encoded data removed]",
      "text/plain": [
       "<Figure size 432x288 with 1 Axes>"
      ]
     },
     "metadata": {
      "needs_background": "light"
     },
     "output_type": "display_data"
    }
   ],
   "source": [
    "def programFinitSolutieUnica():\n",
    "    plt.figure()\n",
    "    plt.xlim(-5, 5)\n",
    "    plt.ylim(-5, 5)\n",
    "    x = np.linspace(-5, 5, 100)\n",
    "\n",
    "    # x - y <= 2\n",
    "    y = x - 2\n",
    "    adaugaLaGrafic(x, y, y - 20)\n",
    "\n",
    "    # 2x + y <= 1\n",
    "    y = 1 - 2 * x\n",
    "    adaugaLaGrafic(x, y, y - 20)\n",
    "\n",
    "    # punctul de optim\n",
    "    plt.scatter(1, -1)\n",
    "\n",
    "    plt.show()\n",
    "\n",
    "programFinitSolutieUnica()"
   ]
  },
  {
   "cell_type": "markdown",
   "metadata": {},
   "source": [
    "## Program liniar compatibil cu optim finit cu o infinitate de solutii optime:\n",
    "\n",
    "    Consider urmatorul sistem:\n",
    "        max x + y\n",
    "        y <= -1"
   ]
  },
  {
   "cell_type": "code",
   "execution_count": 4,
   "metadata": {},
   "outputs": [
    {
     "data": {
      "image/png": "[encoded data removed]",
      "text/plain": [
       "<Figure size 432x288 with 1 Axes>"
      ]
     },
     "metadata": {
      "needs_background": "light"
     },
     "output_type": "display_data"
    }
   ],
   "source": [
    "def programFinitInfinitateSolutii():\n",
    "    plt.figure()\n",
    "    plt.xlim(-5, 5)\n",
    "    plt.ylim(-5, 5)\n",
    "    x = np.linspace(-5, 5, 100)\n",
    "\n",
    "    # y <= -1\n",
    "    y = - x * 0 - 1\n",
    "    adaugaLaGrafic(x, y, y - 10)\n",
    "\n",
    "    plt.show()\n",
    "\n",
    "programFinitInfinitateSolutii()"
   ]
  },
  {
   "cell_type": "markdown",
   "metadata": {},
   "source": [
    "## Program liniar compatibil cu optim infinit:\n",
    "\n",
    "    Consider urmatorul sistem:\n",
    "        max x + y\n",
    "        x <= -1"
   ]
  },
  {
   "cell_type": "code",
   "execution_count": 5,
   "metadata": {},
   "outputs": [
    {
     "data": {
      "image/png": "[encoded data removed]",
      "text/plain": [
       "<Figure size 432x288 with 1 Axes>"
      ]
     },
     "metadata": {
      "needs_background": "light"
     },
     "output_type": "display_data"
    }
   ],
   "source": [
    "def programOptimInfinit():\n",
    "    plt.figure()\n",
    "    plt.xlim(-5, 5)\n",
    "    plt.ylim(-5, 5)\n",
    "    x = np.linspace(-5, 5, 100)\n",
    "\n",
    "    # x <= -1\n",
    "    plt.plot(0 * x - 1, x)\n",
    "    plt.fill_betweenx(x, -1, -10, alpha=0.2)\n",
    "\n",
    "    plt.show()\n",
    "    \n",
    "programOptimInfinit()"
   ]
  },
  {
   "cell_type": "markdown",
   "metadata": {},
   "source": [
    "## Program liniar incompatibil:\n",
    "\n",
    "    Consider urmatorul sistem:\n",
    "        max x + y\n",
    "        -4x + 11y >= 3\n",
    "        2x + y >= 7\n",
    "        y <= -1"
   ]
  },
  {
   "cell_type": "code",
   "execution_count": 6,
   "metadata": {},
   "outputs": [
    {
     "data": {
      "image/png": "[encoded data removed]",
      "text/plain": [
       "<Figure size 432x288 with 1 Axes>"
      ]
     },
     "metadata": {
      "needs_background": "light"
     },
     "output_type": "display_data"
    }
   ],
   "source": [
    "def programIncompatibil():\n",
    "    plt.figure()\n",
    "    plt.xlim(-5, 5)\n",
    "    plt.ylim(-5, 5)\n",
    "    x = np.linspace(-5, 5, 100)\n",
    "\n",
    "    # -4x + 11y >= 3\n",
    "    y = (3 + 4 * x) / 11\n",
    "    adaugaLaGrafic(x, y, y + 10)\n",
    "\n",
    "    # 2x + y >= 7\n",
    "    y = 7 - 2 * x\n",
    "    adaugaLaGrafic(x, y, y + 10)\n",
    "\n",
    "    # y <= -1\n",
    "    y = - x * 0 - 1\n",
    "    adaugaLaGrafic(x, y, y - 10)\n",
    "\n",
    "    plt.show()\n",
    "\n",
    "programIncompatibil()"
   ]
  },
  {
   "cell_type": "markdown",
   "metadata": {},
   "source": [
    "# TEMA 2\n",
    "    1. De calculat inversa unei matrici\n",
    "    2. De aplicat lema substituției"
   ]
  },
  {
   "cell_type": "markdown",
   "metadata": {},
   "source": [
    "Calculeaza x astfel incat Ax = B folosind metoda substitutiei descendente:"
   ]
  },
  {
   "cell_type": "code",
   "execution_count": 7,
   "metadata": {},
   "outputs": [],
   "source": [
    "def substitutieDescendenta(a, b):\n",
    "    assert a.shape[0] == a.shape[1], 'Matricea introdusa nu este patratica!'\n",
    "    assert a.shape[0] == b.shape[0], 'Matricea introdusa si vectorul b nu se potrivesc!'\n",
    "\n",
    "    n = b.shape[0] - 1\n",
    "    x = np.zeros(shape=n+1)\n",
    "    x[n] = b[n] / a[n, n]\n",
    "\n",
    "    for k in range(n - 1, -1, -1):\n",
    "        s = np.dot(a[k, k + 1:], x[k + 1:])\n",
    "        x[k] = (b[k] - s) / a[k, k]\n",
    "\n",
    "    return x"
   ]
  },
  {
   "cell_type": "markdown",
   "metadata": {},
   "source": [
    "Calculeaza x astfel incat Ax = B folosind metoda Gauss cu pivotare totala:"
   ]
  },
  {
   "cell_type": "code",
   "execution_count": 8,
   "metadata": {},
   "outputs": [],
   "source": [
    "def gaussPivotareTotala(a, b):\n",
    "    assert a.shape[0] == a.shape[1], 'Matricea introdusa nu este patratica!'\n",
    "    assert a.shape[0] == b.shape[0], 'Matricea introdusa si vectorul b nu se potrivesc!'\n",
    "    assert np.linalg.det(a) != 0, 'Sistem incompatibil sau sistem compatibil nedeterminat!'\n",
    "\n",
    "    a_ext = np.concatenate((a, b[:, None]), axis=1)\n",
    "    n = a.shape[0] - 1\n",
    "    index = np.array(range(n + 1))\n",
    "\n",
    "    for k in range(n):\n",
    "        poz = np.argmax(np.abs(a_ext[k:, k:n]))\n",
    "        p = k + int(poz / (n - k))\n",
    "        m = k + poz - ((p - k) * (n - k))\n",
    "\n",
    "        if a_ext[p, m] == 0:\n",
    "            raise AssertionError('Sistem incompatibil sau sistem compatibil nedeterminat.')\n",
    "\n",
    "        if p != k:\n",
    "            a_ext[[p, k], :] = a_ext[[k, p], :]\n",
    "\n",
    "        if m != k:\n",
    "            a_ext[:, [m, k]] = a_ext[:, [k, m]]\n",
    "            index[[m, k]] = index[[k, m]]\n",
    "\n",
    "        for j in range(k + 1, n + 1):\n",
    "            mjk = a_ext[j, k] / a_ext[k, k]\n",
    "            a_ext[j, :] -= mjk * a_ext[k, :]\n",
    "\n",
    "    if a_ext[n, n] == 0:\n",
    "        raise AssertionError('Sistem incompatibil sau sistem compatibil nedeterminat.')\n",
    "\n",
    "    y = substitutieDescendenta(a_ext[:, :-1], a_ext[:, -1])\n",
    "\n",
    "    x = list(range(n + 1))\n",
    "    for i in range(n + 1):\n",
    "        x[index[i]] = y[i]\n",
    "\n",
    "    return np.array(x)"
   ]
  },
  {
   "cell_type": "markdown",
   "metadata": {},
   "source": [
    "## Calculeaza inversa matricei A folosind metoda Gauss pentru determinarea inversei:"
   ]
  },
  {
   "cell_type": "code",
   "execution_count": 9,
   "metadata": {},
   "outputs": [],
   "source": [
    "def calculeazaInversa(a):\n",
    "    assert a.shape[0] == a.shape[1], 'Matricea introdusa nu este patratica!'\n",
    "    assert np.linalg.det(a) != 0, 'Matricea introdusa nu este inversabila!'\n",
    "\n",
    "    inversa = np.zeros_like(a)\n",
    "    n = a.shape[0]\n",
    "    ident = np.eye(n)\n",
    "\n",
    "    for i in range(n):\n",
    "        inversa[:, i] = gaussPivotareTotala(a, ident[:, i])\n",
    "\n",
    "    return inversa"
   ]
  },
  {
   "cell_type": "code",
   "execution_count": 10,
   "metadata": {},
   "outputs": [
    {
     "name": "stdout",
     "output_type": "stream",
     "text": [
      "Matricea initiala:\n",
      " [[2. 0. 0.]\n",
      " [0. 1. 0.]\n",
      " [0. 0. 4.]] \n",
      "\n",
      "Inversa matricei:\n",
      " [[0.5  0.   0.  ]\n",
      " [0.   1.   0.  ]\n",
      " [0.   0.   0.25]] \n",
      "\n"
     ]
    }
   ],
   "source": [
    "a = np.array([\n",
    "        [2, 0, 0],\n",
    "        [0, 1, 0],\n",
    "        [0, 0, 4]\n",
    "    ], dtype=np.float)\n",
    "print('Matricea initiala:\\n', a, '\\n')\n",
    "\n",
    "b = calculeazaInversa(a)\n",
    "print('Inversa matricei:\\n', b, '\\n')"
   ]
  },
  {
   "cell_type": "markdown",
   "metadata": {},
   "source": [
    "## Aplica lema substitutiei pentru matricea B si vectorul C:"
   ]
  },
  {
   "cell_type": "code",
   "execution_count": 11,
   "metadata": {},
   "outputs": [],
   "source": [
    "def lemaSubstitutiei(B, C, k=1):\n",
    "    assert k in range(B.shape[0]), 'k nu apartine intervalului [1, m] !'\n",
    "    assert C.shape[0] == B.shape[0], 'C nu apartine R^m !'\n",
    "\n",
    "    B_inv = calculeazaInversa(B)\n",
    "\n",
    "    B_tilde = B.copy()\n",
    "    B_tilde[:, k] = C\n",
    "\n",
    "    y = B_inv @ C\n",
    "    if y[k] == 0:\n",
    "        raise AssertionError('B nu e nesingulara!')\n",
    "\n",
    "    eta = -y / y[k]\n",
    "    eta[k] = 1 / y[k]\n",
    "\n",
    "    E = np.eye(B.shape[0])\n",
    "    E[:, k] = eta\n",
    "\n",
    "    B_tilde_inv = E @ B_inv\n",
    "\n",
    "    return B_tilde, B_tilde_inv"
   ]
  },
  {
   "cell_type": "code",
   "execution_count": 12,
   "metadata": {},
   "outputs": [
    {
     "name": "stdout",
     "output_type": "stream",
     "text": [
      "Matricea initiala:\n",
      " [[2. 0. 0.]\n",
      " [0. 1. 0.]\n",
      " [0. 0. 4.]] \n",
      "\n",
      "B tilde:\n",
      " [[2. 1. 0.]\n",
      " [0. 5. 0.]\n",
      " [0. 2. 4.]] \n",
      "\n",
      "Inversa lui B tilde:\n",
      " [[ 0.5  -0.1   0.  ]\n",
      " [ 0.    0.2   0.  ]\n",
      " [ 0.   -0.1   0.25]] \n",
      "\n"
     ]
    }
   ],
   "source": [
    "a = np.array([\n",
    "    [2, 0, 0],\n",
    "    [0, 1, 0],\n",
    "    [0, 0, 4]\n",
    "], dtype=np.float)\n",
    "print('Matricea initiala:\\n', a, '\\n')\n",
    "\n",
    "c, d = lemaSubstitutiei(a, np.array([1, 5, 2]))\n",
    "print('B tilde:\\n', c, '\\n')\n",
    "print('Inversa lui B tilde:\\n', d, '\\n')"
   ]
  },
  {
   "cell_type": "markdown",
   "metadata": {},
   "source": [
    "# TEMA 3 & TEMA 4\n",
    "    De implementat algoritmul simplex în varianta primală, respectiv duală."
   ]
  },
  {
   "cell_type": "markdown",
   "metadata": {},
   "source": [
    "Functii ajutatoare:"
   ]
  },
  {
   "cell_type": "code",
   "execution_count": 13,
   "metadata": {},
   "outputs": [],
   "source": [
    "def pivot(matrice, linie_pivot, coloana_pivot):\n",
    "    \"\"\" Executa un pas din reducerea Gaussiana pentru pivotul dat \"\"\"\n",
    "    matrice[linie_pivot] /= matrice[linie_pivot, coloana_pivot]\n",
    "\n",
    "    for linie in range(len(matrice)):\n",
    "        if linie != linie_pivot:\n",
    "            matrice[linie] -= matrice[linie, coloana_pivot] * matrice[linie_pivot]\n",
    "\n",
    "\n",
    "def strCoeficienti(sir):\n",
    "    \"\"\" Transcrie un sir de coeficienti ca formula \"\"\"\n",
    "    s = f'{sir[0]} * x1 '\n",
    "    for i in range(1, len(sir)):\n",
    "        if sir[i] >= 0:\n",
    "            s += f'+ {sir[i]}'\n",
    "        else:\n",
    "            s += f'- {-1 * sir[i]}'\n",
    "        s += f' * x{i + 1} '\n",
    "    return s"
   ]
  },
  {
   "cell_type": "markdown",
   "metadata": {},
   "source": [
    "Clasa cu rezolvarea problemei:"
   ]
  },
  {
   "cell_type": "code",
   "execution_count": 14,
   "metadata": {},
   "outputs": [],
   "source": [
    "class Sistem:\n",
    "    def __init__(self, matrice, semne, coeficienti, maxim=True):\n",
    "        assert matrice.shape[0] == semne.shape[0] and matrice.shape[1] - 1 == coeficienti.shape[0], \\\n",
    "            'Dimensiunile datelor de intrare nu se potrivesc!'\n",
    "\n",
    "        self.matrice = matrice                  # matricea sistemului\n",
    "        self.semne = semne                      # semnele (in)ecuatiilor\n",
    "        self.coeficienti = coeficienti          # coeficientii din max\n",
    "        self.variabile_libere = 0               # variabilele adaugate pentru aducerea la forma LP standard\n",
    "        self.tip = 'max' if maxim else 'min'    # daca programul calculeaza maximul / minimul\n",
    "\n",
    "    def __str__(self):\n",
    "        s = f'{self.tip} {strCoeficienti(self.coeficienti)}\\n'\n",
    "        for i in range(self.matrice.shape[0]):\n",
    "            s += f'{strCoeficienti(self.matrice[i][:-1])} {self.semne[i]} {self.matrice[i][-1]}\\n'\n",
    "        return s\n",
    "\n",
    "    def adaugaVariabila(self, coeficient, index):\n",
    "        \"\"\" Adauga o variabila ajutatoare in matrice \"\"\"\n",
    "        termeni_liberi = self.matrice[:, -1]\n",
    "        aux = np.array([coeficient if i == index else 0 for i in range(self.matrice.shape[0])], dtype=float)\n",
    "        self.matrice = np.concatenate((self.matrice[:, :-1], aux[:, None]), axis=1)\n",
    "        self.matrice = np.concatenate((self.matrice, termeni_liberi[:, None]), axis=1)\n",
    "\n",
    "    def adaugaTermeniLiberi(self, semn=-1):\n",
    "        \"\"\" Adauga termenii liberi in matricea sistemului \"\"\"\n",
    "        termeni_liberi = np.array([semn * c for c in self.coeficienti] + [0] * (self.variabile_libere + 1), dtype=float)\n",
    "        self.matrice = np.concatenate((self.matrice, termeni_liberi[None, :]))\n",
    "        self.semne = np.append(self.semne, ['='])\n",
    "\n",
    "    def extrageTermeniLiberi(self):\n",
    "        \"\"\" Extrage termenii liberi din matricea sistemului si ii muta in vectorul de coeficienti \"\"\"\n",
    "        self.coeficienti = self.matrice[-1][:-1]\n",
    "        self.matrice = self.matrice[:-1]\n",
    "\n",
    "    def standardizareLP(self):\n",
    "        \"\"\" Aduce problema in forma LP standard \"\"\"\n",
    "        for i in range(len(self.semne)):\n",
    "            if self.semne[i] == '=':\n",
    "                continue\n",
    "            elif self.semne[i] == '<=':\n",
    "                self.adaugaVariabila(1, i)\n",
    "            elif self.semne[i] == '>=':\n",
    "                self.adaugaVariabila(-1, i)\n",
    "\n",
    "            self.semne[i] = '='\n",
    "            self.variabile_libere += 1\n",
    "\n",
    "        self.adaugaTermeniLiberi()\n",
    "\n",
    "    def simplexPrimal(self):\n",
    "        \"\"\" Tema 3: Algoritmul simplex in varianta primala \"\"\"\n",
    "        self.standardizareLP()\n",
    "\n",
    "        while True:\n",
    "            coloana_pivot = -1\n",
    "            for coloana, valoare in enumerate(self.matrice[-1]):\n",
    "                if valoare < 0:\n",
    "                    coloana_pivot = coloana\n",
    "                    break\n",
    "\n",
    "            if coloana_pivot == -1:\n",
    "                break\n",
    "\n",
    "            linie_pivot = -1\n",
    "            raport_minim = np.inf\n",
    "            for linie, valoare in enumerate(self.matrice[:-1, -1]):\n",
    "                elem = self.matrice[linie, coloana_pivot]\n",
    "                if elem > 0:\n",
    "                    raport = valoare / elem\n",
    "                    if raport < raport_minim:\n",
    "                        linie_pivot = linie\n",
    "                        raport_minim = raport\n",
    "\n",
    "            if linie_pivot == -1:\n",
    "                return 'Valoarea optima: infinit'\n",
    "\n",
    "            pivot(self.matrice, linie_pivot, coloana_pivot)\n",
    "\n",
    "        s = f'Valoarea optima: {self.matrice[-1][-1]}\\n'\n",
    "        for index in range(self.matrice.shape[1] - 1 - self.variabile_libere):\n",
    "            s += f'x{index + 1} = {self.matrice[-1, index]}\\n'\n",
    "        return s\n",
    "\n",
    "    def transformareDual(self):\n",
    "        \"\"\" Transforma sistemul pentru aplicarea algoritmului dual \"\"\"\n",
    "        self.adaugaTermeniLiberi(1)\n",
    "        self.matrice = self.matrice.T\n",
    "        self.extrageTermeniLiberi()\n",
    "        self.tip = 'min' if self.tip == 'max' else 'max'\n",
    "        operator = '<=' if self.tip == 'max' else '>='\n",
    "        self.semne = [operator] * self.matrice.shape[0]\n",
    "\n",
    "    def simplexDual(self):\n",
    "        \"\"\" Tema 4: Algoritmul simplex in varianta duala \"\"\"\n",
    "        self.transformareDual()\n",
    "        self.standardizareLP()\n",
    "        self.matrice[-1] *= -1\n",
    "\n",
    "        while True:\n",
    "            linie_pivot = -1\n",
    "            for linie, valoare in enumerate(self.matrice[:, -1]):\n",
    "                if valoare < 0:\n",
    "                    linie_pivot = linie\n",
    "                    break\n",
    "\n",
    "            if linie_pivot == -1:\n",
    "                break\n",
    "\n",
    "            coloana_pivot = -1\n",
    "            raport_minim = np.inf\n",
    "            for coloana, valoare in enumerate(self.matrice[-1, :-1]):\n",
    "                elem = self.matrice[linie_pivot][coloana]\n",
    "                if elem < 0:\n",
    "                    raport = valoare / elem\n",
    "                    if raport < raport_minim:\n",
    "                        coloana_pivot = coloana\n",
    "                        raport_minim = raport\n",
    "\n",
    "            if coloana_pivot == -1:\n",
    "                return 'Valoarea optima: infinit'\n",
    "\n",
    "            pivot(self.matrice, linie_pivot, coloana_pivot)\n",
    "\n",
    "        s = f'Valoarea optima: {self.matrice[-1][-1]}\\n'\n",
    "        for index in range(self.matrice.shape[1] - 1 - self.variabile_libere):\n",
    "            s += f'y{index + 1} = {-self.matrice[-1, self.variabile_libere + index]}\\n'\n",
    "        return s"
   ]
  },
  {
   "cell_type": "markdown",
   "metadata": {},
   "source": [
    "## TEMA 3:\n",
    "    Algoritmul simplex în varianta primală"
   ]
  },
  {
   "cell_type": "code",
   "execution_count": 18,
   "metadata": {},
   "outputs": [
    {
     "name": "stdout",
     "output_type": "stream",
     "text": [
      "Sistemul initial:\n",
      "max 3.0 * x1 + 5.0 * x2 \n",
      "1.0 * x1 + 3.0 * x2  >= 3.0\n",
      "2.0 * x1 + 7.0 * x2  <= 1.0\n",
      "\n",
      "Rezolvarea cu simplex primal:\n",
      "Valoarea optima: 1.5\n",
      "x1 = 0.0\n",
      "x2 = 5.5\n",
      "\n"
     ]
    }
   ],
   "source": [
    "s = Sistem(np.array([[1, 3, 3], [2, 7, 1]], dtype=float),\n",
    "           np.array(['>=', '<=']),\n",
    "           np.array([3, 5], dtype=float))\n",
    "print(f'Sistemul initial:\\n{s}')\n",
    "print(f'Rezolvarea cu simplex primal:\\n{s.simplexPrimal()}')"
   ]
  },
  {
   "cell_type": "markdown",
   "metadata": {},
   "source": [
    "## TEMA 4:\n",
    "    Algoritmul simplex în varianta duală"
   ]
  },
  {
   "cell_type": "code",
   "execution_count": 19,
   "metadata": {},
   "outputs": [
    {
     "name": "stdout",
     "output_type": "stream",
     "text": [
      "Sistemul initial:\n",
      "max -1.0 * x1 - 2.0 * x2 - 4.0 * x3 \n",
      "1.0 * x1 - 3.0 * x2 - 2.0 * x3  <= 2.0\n",
      "-1.0 * x1 + 4.0 * x2 - 3.0 * x3  <= -1.0\n",
      "2.0 * x1 + 1.0 * x2 - 4.0 * x3  <= 1.0\n",
      "\n",
      "Sistemul dupa transformarea duala:\n",
      "min 2.0 * x1 - 1.0 * x2 + 1.0 * x3 \n",
      "1.0 * x1 - 1.0 * x2 + 2.0 * x3  >= -1.0\n",
      "-3.0 * x1 + 4.0 * x2 + 1.0 * x3  >= -2.0\n",
      "-2.0 * x1 - 3.0 * x2 - 4.0 * x3  >= -4.0\n",
      "\n",
      "Rezolvarea cu simplex dual:\n",
      "Valoarea optima: 1.1\n",
      "y1 = 0.0\n",
      "y2 = 1.2\n",
      "y3 = 0.1\n",
      "\n"
     ]
    }
   ],
   "source": [
    "s = Sistem(np.array([[1, -3, -2, 2], [-1, 4, -3, -1], [2, 1, -4, 1]], dtype=float),\n",
    "           np.array(['<=', '<=', '<=']),\n",
    "           np.array([-1, -2, -4], dtype=float))\n",
    "print(f'Sistemul initial:\\n{s}')\n",
    "s.transformareDual()\n",
    "\n",
    "print(f'Sistemul dupa transformarea duala:\\n{s}')\n",
    "print(f'Rezolvarea cu simplex dual:\\n{s.simplexDual()}')"
   ]
  }
 ],
 "metadata": {
  "kernelspec": {
   "display_name": "Python 3",
   "language": "python",
   "name": "python3"
  },
  "language_info": {
   "codemirror_mode": {
    "name": "ipython",
    "version": 3
   },
   "file_extension": ".py",
   "mimetype": "text/x-python",
   "name": "python",
   "nbconvert_exporter": "python",
   "pygments_lexer": "ipython3",
   "version": "3.7.6"
  }
 },
 "nbformat": 4,
 "nbformat_minor": 4
}
