{
 "cells": [
  {
   "cell_type": "code",
   "execution_count": 39,
   "metadata": {},
   "outputs": [],
   "source": [
    "import librosa\n",
    "import numpy as np\n",
    "from sklearn.svm import LinearSVC as LSVC\n",
    "from sklearn.metrics import confusion_matrix"
   ]
  },
  {
   "cell_type": "code",
   "execution_count": 192,
   "metadata": {},
   "outputs": [],
   "source": [
    "# definesc functiile necesare citirii si prelucrarii datelor de intrare\n",
    "# https://medium.com/comet-ml/applyingmachinelearningtoaudioanalysis-utm-source-kdnuggets11-19-e160b069e88\n",
    "\n",
    "def read_sounds(files, input_file):\n",
    "    sounds = []\n",
    "    for i in range(len(files)):\n",
    "        x, sample_rate = librosa.load(input_file + '/' + input_file + '/' + files[i], res_type='kaiser_fast')\n",
    "        mfccs = np.mean(librosa.feature.mfcc(y=x, sr=sample_rate, n_mfcc=128).T, axis=0)\n",
    "        sounds.append(mfccs)\n",
    "    return np.array(sounds)\n",
    "\n",
    "def read_data(input_file):\n",
    "    files, labels = np.loadtxt(input_file + '.txt', dtype='str', delimiter=',', unpack=True)\n",
    "    return read_sounds(files, input_file), np.array(labels.astype(int))\n",
    "\n",
    "def read_test(input_file='test'):\n",
    "    test_files = np.loadtxt(input_file + '.txt', dtype='str', unpack=True)\n",
    "    return test_files, read_sounds(test_files, input_file)"
   ]
  },
  {
   "cell_type": "code",
   "execution_count": 54,
   "metadata": {},
   "outputs": [],
   "source": [
    "# citesc datele de intrare\n",
    "\n",
    "train_data, train_labels = read_data('train')\n",
    "val_data, val_labels = read_data('validation')\n",
    "test_files, test_data = read_test()"
   ]
  },
  {
   "cell_type": "code",
   "execution_count": 387,
   "metadata": {},
   "outputs": [
    {
     "data": {
      "text/plain": [
       "LinearSVC(C=1.0, class_weight=None, dual=False, fit_intercept=True,\n",
       "          intercept_scaling=1, loss='squared_hinge', max_iter=1000,\n",
       "          multi_class='ovr', penalty='l2', random_state=None, tol=0.0001,\n",
       "          verbose=0)"
      ]
     },
     "execution_count": 387,
     "metadata": {},
     "output_type": "execute_result"
    }
   ],
   "source": [
    "# declar modelul folosit si il antrenez pe datele de intrare\n",
    "# https://scikit-learn.org/stable/modules/generated/sklearn.svm.LinearSVC.html\n",
    "\n",
    "model = LSVC(dual=False)\n",
    "model.fit(train_data, train_labels)"
   ]
  },
  {
   "cell_type": "code",
   "execution_count": 388,
   "metadata": {},
   "outputs": [
    {
     "data": {
      "text/plain": [
       "0.742"
      ]
     },
     "execution_count": 388,
     "metadata": {},
     "output_type": "execute_result"
    }
   ],
   "source": [
    "# scorul pe datele de antrenare\n",
    "\n",
    "model.score(train_data, train_labels)"
   ]
  },
  {
   "cell_type": "code",
   "execution_count": 389,
   "metadata": {},
   "outputs": [
    {
     "data": {
      "text/plain": [
       "0.705"
      ]
     },
     "execution_count": 389,
     "metadata": {},
     "output_type": "execute_result"
    }
   ],
   "source": [
    "# scorul pe datele de validare\n",
    "\n",
    "model.score(val_data, val_labels)"
   ]
  },
  {
   "cell_type": "code",
   "execution_count": null,
   "metadata": {},
   "outputs": [],
   "source": [
    "# matricea de confuzie pentru datele de validare\n",
    "\n",
    "predicted_val_labels = model.predict(val_data)\n",
    "confusion_matrix_val = confusion_matrix(val_labels, predicted_val_labels)\n",
    "print(confusion_matrix_val)"
   ]
  },
  {
   "cell_type": "code",
   "execution_count": null,
   "metadata": {},
   "outputs": [],
   "source": [
    "# sparg matricea de validare\n",
    "\n",
    "true_negative = confusion_matrix_val[0][0]\n",
    "false_positive = confusion_matrix_val[0][1]\n",
    "false_negative = confusion_matrix_val[1][0]\n",
    "true_positive = confusion_matrix_val[1][1]"
   ]
  },
  {
   "cell_type": "code",
   "execution_count": null,
   "metadata": {},
   "outputs": [],
   "source": [
    "# calculez precizia\n",
    "\n",
    "precision_score = true_positive / (true_positive + false_positive)\n",
    "print(precision_score)"
   ]
  },
  {
   "cell_type": "code",
   "execution_count": null,
   "metadata": {},
   "outputs": [],
   "source": [
    "# calculez recall-ul\n",
    "\n",
    "recall_score = true_positive / (true_positive + false_negative)\n",
    "print(recall_score)"
   ]
  },
  {
   "cell_type": "code",
   "execution_count": 385,
   "metadata": {},
   "outputs": [],
   "source": [
    "# calculez si salvez predictiile pentru datele de test\n",
    "# https://stackoverflow.com/questions/36210977/python-numpy-savetxt-header-has-extra-character/36211002\n",
    "\n",
    "test_labels = model.predict(test_data)\n",
    "np.savetxt('submission1.txt', np.c_[test_files, test_labels], delimiter=',', header='name,label', comments='', fmt='%s')"
   ]
  }
 ],
 "metadata": {
  "kernelspec": {
   "display_name": "Python 3",
   "language": "python",
   "name": "python3"
  },
  "language_info": {
   "codemirror_mode": {
    "name": "ipython",
    "version": 3
   },
   "file_extension": ".py",
   "mimetype": "text/x-python",
   "name": "python",
   "nbconvert_exporter": "python",
   "pygments_lexer": "ipython3",
   "version": "3.7.6"
  }
 },
 "nbformat": 4,
 "nbformat_minor": 4
}
